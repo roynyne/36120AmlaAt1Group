{
 "cells": [
  {
   "cell_type": "markdown",
   "metadata": {
    "id": "uQ6wc2HE0pke"
   },
   "source": [
    "# **Submission Notebook**\n",
    "\n"
   ]
  },
  {
   "cell_type": "code",
   "execution_count": 1,
   "metadata": {},
   "outputs": [
    {
     "name": "stdout",
     "output_type": "stream",
     "text": [
      "Looking in indexes: https://test.pypi.org/simple/\n",
      "Requirement already satisfied: grp_krml_group6==2024.0.1.0 in /Users/rusanvaidya/Library/Caches/pypoetry/virtualenvs/36120amlaat1group6-xUXkjShL-py3.11/lib/python3.11/site-packages (2024.0.1.0)\n",
      "Requirement already satisfied: pandas==2.2.2 in /Users/rusanvaidya/Library/Caches/pypoetry/virtualenvs/36120amlaat1group6-xUXkjShL-py3.11/lib/python3.11/site-packages (from grp_krml_group6==2024.0.1.0) (2.2.2)\n",
      "Requirement already satisfied: scikit-learn==1.5.1 in /Users/rusanvaidya/Library/Caches/pypoetry/virtualenvs/36120amlaat1group6-xUXkjShL-py3.11/lib/python3.11/site-packages (from grp_krml_group6==2024.0.1.0) (1.5.1)\n",
      "Requirement already satisfied: numpy>=1.23.2 in /Users/rusanvaidya/Library/Caches/pypoetry/virtualenvs/36120amlaat1group6-xUXkjShL-py3.11/lib/python3.11/site-packages (from pandas==2.2.2->grp_krml_group6==2024.0.1.0) (2.0.1)\n",
      "Requirement already satisfied: python-dateutil>=2.8.2 in /Users/rusanvaidya/Library/Caches/pypoetry/virtualenvs/36120amlaat1group6-xUXkjShL-py3.11/lib/python3.11/site-packages (from pandas==2.2.2->grp_krml_group6==2024.0.1.0) (2.9.0.post0)\n",
      "Requirement already satisfied: pytz>=2020.1 in /Users/rusanvaidya/Library/Caches/pypoetry/virtualenvs/36120amlaat1group6-xUXkjShL-py3.11/lib/python3.11/site-packages (from pandas==2.2.2->grp_krml_group6==2024.0.1.0) (2024.1)\n",
      "Requirement already satisfied: tzdata>=2022.7 in /Users/rusanvaidya/Library/Caches/pypoetry/virtualenvs/36120amlaat1group6-xUXkjShL-py3.11/lib/python3.11/site-packages (from pandas==2.2.2->grp_krml_group6==2024.0.1.0) (2024.1)\n",
      "Requirement already satisfied: scipy>=1.6.0 in /Users/rusanvaidya/Library/Caches/pypoetry/virtualenvs/36120amlaat1group6-xUXkjShL-py3.11/lib/python3.11/site-packages (from scikit-learn==1.5.1->grp_krml_group6==2024.0.1.0) (1.14.0)\n",
      "Requirement already satisfied: joblib>=1.2.0 in /Users/rusanvaidya/Library/Caches/pypoetry/virtualenvs/36120amlaat1group6-xUXkjShL-py3.11/lib/python3.11/site-packages (from scikit-learn==1.5.1->grp_krml_group6==2024.0.1.0) (1.4.2)\n",
      "Requirement already satisfied: threadpoolctl>=3.1.0 in /Users/rusanvaidya/Library/Caches/pypoetry/virtualenvs/36120amlaat1group6-xUXkjShL-py3.11/lib/python3.11/site-packages (from scikit-learn==1.5.1->grp_krml_group6==2024.0.1.0) (3.5.0)\n",
      "Requirement already satisfied: six>=1.5 in /Users/rusanvaidya/Library/Caches/pypoetry/virtualenvs/36120amlaat1group6-xUXkjShL-py3.11/lib/python3.11/site-packages (from python-dateutil>=2.8.2->pandas==2.2.2->grp_krml_group6==2024.0.1.0) (1.16.0)\n",
      "Requirement already satisfied: xgboost in /Users/rusanvaidya/Library/Caches/pypoetry/virtualenvs/36120amlaat1group6-xUXkjShL-py3.11/lib/python3.11/site-packages (2.1.1)\n",
      "Requirement already satisfied: numpy in /Users/rusanvaidya/Library/Caches/pypoetry/virtualenvs/36120amlaat1group6-xUXkjShL-py3.11/lib/python3.11/site-packages (from xgboost) (2.0.1)\n",
      "Requirement already satisfied: scipy in /Users/rusanvaidya/Library/Caches/pypoetry/virtualenvs/36120amlaat1group6-xUXkjShL-py3.11/lib/python3.11/site-packages (from xgboost) (1.14.0)\n"
     ]
    }
   ],
   "source": [
    "%load_ext autoreload\n",
    "%autoreload 2\n",
    "!pip3 install -i https://test.pypi.org/simple/ grp_krml_group6==2024.0.1.0\n",
    "!pip3 install xgboost"
   ]
  },
  {
   "cell_type": "code",
   "execution_count": 2,
   "metadata": {
    "id": "X3l_Iffyhezx"
   },
   "outputs": [],
   "source": [
    "import pandas as pd\n",
    "import numpy as np\n",
    "import matplotlib.pyplot as plt\n",
    "import seaborn as sns\n",
    "from sklearn.model_selection import train_test_split, RandomizedSearchCV\n",
    "from sklearn.preprocessing import StandardScaler, OneHotEncoder\n",
    "from sklearn.compose import ColumnTransformer\n",
    "from sklearn.pipeline import Pipeline\n",
    "from xgboost import XGBClassifier\n",
    "from sklearn.metrics import accuracy_score, classification_report, roc_auc_score\n",
    "import matplotlib.pyplot as plt\n",
    "from scipy.stats import uniform, randint\n",
    "from grp_krml_group6.data.sets import pop_target, data_cleaning, roc_curve_plot, distribution_plot, categorical_plot, confusion_matrix_plot, relationship_plot"
   ]
  },
  {
   "cell_type": "code",
   "execution_count": 3,
   "metadata": {},
   "outputs": [],
   "source": [
    "import warnings\n",
    "warnings.filterwarnings(\"ignore\")"
   ]
  },
  {
   "cell_type": "code",
   "execution_count": 4,
   "metadata": {
    "id": "SiroVmhn9_HP"
   },
   "outputs": [],
   "source": [
    "train_file_url = '../data/raw/train.csv'\n",
    "test_file_url = '../data/raw/test.csv'"
   ]
  },
  {
   "cell_type": "code",
   "execution_count": 5,
   "metadata": {
    "id": "Q1iETWjDftMg"
   },
   "outputs": [],
   "source": [
    "train_df = pd.read_csv(train_file_url)\n",
    "test_df = pd.read_csv(test_file_url)"
   ]
  },
  {
   "cell_type": "code",
   "execution_count": 6,
   "metadata": {},
   "outputs": [
    {
     "data": {
      "text/plain": [
       "((46618, 64), (4970, 63))"
      ]
     },
     "execution_count": 6,
     "metadata": {},
     "output_type": "execute_result"
    }
   ],
   "source": [
    "train_df.shape, test_df.shape"
   ]
  },
  {
   "cell_type": "code",
   "execution_count": 7,
   "metadata": {
    "id": "HrXR7NCLtwxB"
   },
   "outputs": [],
   "source": [
    "df_cleaned = train_df.copy()\n",
    "df_clean_test = test_df.copy()"
   ]
  },
  {
   "cell_type": "code",
   "execution_count": 8,
   "metadata": {},
   "outputs": [],
   "source": [
    "# 1. Drop Irrelevant Features\n",
    "df_cleaned.drop(columns=['player_id', 'year', 'team'], inplace=True)\n",
    "df_clean_test.drop(columns=['player_id', 'year', 'team'], inplace=True)\n",
    "\n",
    "# Dropping columns with a large amount of missing data (e.g., Rec_Rank)\n",
    "df_cleaned.drop('Rec_Rank', axis=1, inplace=True)\n",
    "df_clean_test.drop('Rec_Rank', axis=1, inplace=True)"
   ]
  },
  {
   "cell_type": "code",
   "execution_count": 9,
   "metadata": {},
   "outputs": [],
   "source": [
    "# Example usage for height transformation:\n",
    "month_mapping = {\n",
    "    \"Jan\": 1, \"Feb\": 2, \"Mar\": 3, \"Apr\": 4,\n",
    "    \"May\": 5, \"Jun\": 6, \"Jul\": 7, \"Aug\": 8,\n",
    "    \"Sep\": 9, \"Oct\": 10, \"Nov\": 11, \"Dec\": 12\n",
    "}\n",
    "\n",
    "def convert_height(ht_value):\n",
    "    try:\n",
    "        feet, inches = ht_value.split('-')\n",
    "        inches = month_mapping.get(inches, inches)  # Convert month-like string to a number\n",
    "        return int(feet) * 12 + int(inches)\n",
    "    except (ValueError, AttributeError):\n",
    "        return np.nan"
   ]
  },
  {
   "cell_type": "code",
   "execution_count": 10,
   "metadata": {},
   "outputs": [],
   "source": [
    "num_cols = ['ast_tov', 'rimmade', 'midmade', 'rim_ratio', 'mid_ratio', 'dunks_ratio', 'pick']\n",
    "cat_cols = ['num', 'ht', 'yr']"
   ]
  },
  {
   "cell_type": "code",
   "execution_count": 11,
   "metadata": {},
   "outputs": [],
   "source": [
    "df_cleaned = data_cleaning(df_cleaned, \n",
    "                           num_columns = num_cols, \n",
    "                           cat_columns = cat_cols, \n",
    "                           special_column_transformations={'ht': convert_height})\n",
    "X_test = data_cleaning(df_clean_test, \n",
    "                           num_columns = num_cols, \n",
    "                           cat_columns = cat_cols, \n",
    "                           special_column_transformations={'ht': convert_height})"
   ]
  },
  {
   "cell_type": "code",
   "execution_count": 12,
   "metadata": {},
   "outputs": [],
   "source": [
    "# 1. Split the data into features (X) and target (y)\n",
    "X, y = pop_target(df_cleaned, 'drafted')"
   ]
  },
  {
   "cell_type": "code",
   "execution_count": 13,
   "metadata": {},
   "outputs": [],
   "source": [
    "# 2. Further split the data into training and testing sets\n",
    "X_train, X_val, y_train, y_val = train_test_split(X, y, test_size=0.3, random_state=42, stratify=y)"
   ]
  },
  {
   "cell_type": "code",
   "execution_count": 14,
   "metadata": {},
   "outputs": [],
   "source": [
    "# 3. Define the preprocessing pipeline\n",
    "categorical_columns = ['conf', 'yr', 'type']  # Adjust as needed\n",
    "numerical_columns = X.select_dtypes(include=['float64', 'int64']).columns.tolist()\n",
    "numerical_columns = [col for col in numerical_columns if col not in categorical_columns]\n",
    "\n",
    "preprocessor = ColumnTransformer(\n",
    "    transformers=[\n",
    "        ('num', StandardScaler(), numerical_columns),\n",
    "        ('cat', OneHotEncoder(drop='first'), categorical_columns)\n",
    "    ])"
   ]
  },
  {
   "cell_type": "code",
   "execution_count": 15,
   "metadata": {},
   "outputs": [],
   "source": [
    "ratio = float(np.sum(y_train == 0)) / np.sum(y_train == 1)  # Adjust this based on class distribution"
   ]
  },
  {
   "cell_type": "code",
   "execution_count": 16,
   "metadata": {},
   "outputs": [],
   "source": [
    "# 4. Create the Logistic Regression pipeline\n",
    "pipeline = Pipeline(steps=[\n",
    "    ('preprocessor', preprocessor),\n",
    "    ('classifier', XGBClassifier(scale_pos_weight=ratio))\n",
    "])"
   ]
  },
  {
   "cell_type": "code",
   "execution_count": 17,
   "metadata": {},
   "outputs": [],
   "source": [
    "param_distributions = {\n",
    "    'classifier__max_depth': randint(3, 10),  # Max depth of trees\n",
    "    'classifier__learning_rate': uniform(0.01, 0.3),  # Learning rate\n",
    "    'classifier__n_estimators': randint(10, 100),  # Number of trees\n",
    "    'classifier__gamma': uniform(0, 0.5),  # Penalize tree splits\n",
    "    'classifier__reg_alpha': uniform(0.01, 1),  # L1 regularization (Lasso)\n",
    "    'classifier__reg_lambda': uniform(0.01, 1),  # L2 regularization (Ridge)\n",
    "    'classifier__scale_pos_weight': uniform(1, 10),  # Balancing positive and negative classes\n",
    "}\n",
    "\n",
    "# Randomized search over the parameter grid\n",
    "random_search = RandomizedSearchCV(pipeline, param_distributions, n_iter=10, scoring='roc_auc', cv=3, random_state=42)"
   ]
  },
  {
   "cell_type": "code",
   "execution_count": 18,
   "metadata": {},
   "outputs": [
    {
     "data": {
      "text/html": [
       "<style>#sk-container-id-1 {\n",
       "  /* Definition of color scheme common for light and dark mode */\n",
       "  --sklearn-color-text: black;\n",
       "  --sklearn-color-line: gray;\n",
       "  /* Definition of color scheme for unfitted estimators */\n",
       "  --sklearn-color-unfitted-level-0: #fff5e6;\n",
       "  --sklearn-color-unfitted-level-1: #f6e4d2;\n",
       "  --sklearn-color-unfitted-level-2: #ffe0b3;\n",
       "  --sklearn-color-unfitted-level-3: chocolate;\n",
       "  /* Definition of color scheme for fitted estimators */\n",
       "  --sklearn-color-fitted-level-0: #f0f8ff;\n",
       "  --sklearn-color-fitted-level-1: #d4ebff;\n",
       "  --sklearn-color-fitted-level-2: #b3dbfd;\n",
       "  --sklearn-color-fitted-level-3: cornflowerblue;\n",
       "\n",
       "  /* Specific color for light theme */\n",
       "  --sklearn-color-text-on-default-background: var(--sg-text-color, var(--theme-code-foreground, var(--jp-content-font-color1, black)));\n",
       "  --sklearn-color-background: var(--sg-background-color, var(--theme-background, var(--jp-layout-color0, white)));\n",
       "  --sklearn-color-border-box: var(--sg-text-color, var(--theme-code-foreground, var(--jp-content-font-color1, black)));\n",
       "  --sklearn-color-icon: #696969;\n",
       "\n",
       "  @media (prefers-color-scheme: dark) {\n",
       "    /* Redefinition of color scheme for dark theme */\n",
       "    --sklearn-color-text-on-default-background: var(--sg-text-color, var(--theme-code-foreground, var(--jp-content-font-color1, white)));\n",
       "    --sklearn-color-background: var(--sg-background-color, var(--theme-background, var(--jp-layout-color0, #111)));\n",
       "    --sklearn-color-border-box: var(--sg-text-color, var(--theme-code-foreground, var(--jp-content-font-color1, white)));\n",
       "    --sklearn-color-icon: #878787;\n",
       "  }\n",
       "}\n",
       "\n",
       "#sk-container-id-1 {\n",
       "  color: var(--sklearn-color-text);\n",
       "}\n",
       "\n",
       "#sk-container-id-1 pre {\n",
       "  padding: 0;\n",
       "}\n",
       "\n",
       "#sk-container-id-1 input.sk-hidden--visually {\n",
       "  border: 0;\n",
       "  clip: rect(1px 1px 1px 1px);\n",
       "  clip: rect(1px, 1px, 1px, 1px);\n",
       "  height: 1px;\n",
       "  margin: -1px;\n",
       "  overflow: hidden;\n",
       "  padding: 0;\n",
       "  position: absolute;\n",
       "  width: 1px;\n",
       "}\n",
       "\n",
       "#sk-container-id-1 div.sk-dashed-wrapped {\n",
       "  border: 1px dashed var(--sklearn-color-line);\n",
       "  margin: 0 0.4em 0.5em 0.4em;\n",
       "  box-sizing: border-box;\n",
       "  padding-bottom: 0.4em;\n",
       "  background-color: var(--sklearn-color-background);\n",
       "}\n",
       "\n",
       "#sk-container-id-1 div.sk-container {\n",
       "  /* jupyter's `normalize.less` sets `[hidden] { display: none; }`\n",
       "     but bootstrap.min.css set `[hidden] { display: none !important; }`\n",
       "     so we also need the `!important` here to be able to override the\n",
       "     default hidden behavior on the sphinx rendered scikit-learn.org.\n",
       "     See: https://github.com/scikit-learn/scikit-learn/issues/21755 */\n",
       "  display: inline-block !important;\n",
       "  position: relative;\n",
       "}\n",
       "\n",
       "#sk-container-id-1 div.sk-text-repr-fallback {\n",
       "  display: none;\n",
       "}\n",
       "\n",
       "div.sk-parallel-item,\n",
       "div.sk-serial,\n",
       "div.sk-item {\n",
       "  /* draw centered vertical line to link estimators */\n",
       "  background-image: linear-gradient(var(--sklearn-color-text-on-default-background), var(--sklearn-color-text-on-default-background));\n",
       "  background-size: 2px 100%;\n",
       "  background-repeat: no-repeat;\n",
       "  background-position: center center;\n",
       "}\n",
       "\n",
       "/* Parallel-specific style estimator block */\n",
       "\n",
       "#sk-container-id-1 div.sk-parallel-item::after {\n",
       "  content: \"\";\n",
       "  width: 100%;\n",
       "  border-bottom: 2px solid var(--sklearn-color-text-on-default-background);\n",
       "  flex-grow: 1;\n",
       "}\n",
       "\n",
       "#sk-container-id-1 div.sk-parallel {\n",
       "  display: flex;\n",
       "  align-items: stretch;\n",
       "  justify-content: center;\n",
       "  background-color: var(--sklearn-color-background);\n",
       "  position: relative;\n",
       "}\n",
       "\n",
       "#sk-container-id-1 div.sk-parallel-item {\n",
       "  display: flex;\n",
       "  flex-direction: column;\n",
       "}\n",
       "\n",
       "#sk-container-id-1 div.sk-parallel-item:first-child::after {\n",
       "  align-self: flex-end;\n",
       "  width: 50%;\n",
       "}\n",
       "\n",
       "#sk-container-id-1 div.sk-parallel-item:last-child::after {\n",
       "  align-self: flex-start;\n",
       "  width: 50%;\n",
       "}\n",
       "\n",
       "#sk-container-id-1 div.sk-parallel-item:only-child::after {\n",
       "  width: 0;\n",
       "}\n",
       "\n",
       "/* Serial-specific style estimator block */\n",
       "\n",
       "#sk-container-id-1 div.sk-serial {\n",
       "  display: flex;\n",
       "  flex-direction: column;\n",
       "  align-items: center;\n",
       "  background-color: var(--sklearn-color-background);\n",
       "  padding-right: 1em;\n",
       "  padding-left: 1em;\n",
       "}\n",
       "\n",
       "\n",
       "/* Toggleable style: style used for estimator/Pipeline/ColumnTransformer box that is\n",
       "clickable and can be expanded/collapsed.\n",
       "- Pipeline and ColumnTransformer use this feature and define the default style\n",
       "- Estimators will overwrite some part of the style using the `sk-estimator` class\n",
       "*/\n",
       "\n",
       "/* Pipeline and ColumnTransformer style (default) */\n",
       "\n",
       "#sk-container-id-1 div.sk-toggleable {\n",
       "  /* Default theme specific background. It is overwritten whether we have a\n",
       "  specific estimator or a Pipeline/ColumnTransformer */\n",
       "  background-color: var(--sklearn-color-background);\n",
       "}\n",
       "\n",
       "/* Toggleable label */\n",
       "#sk-container-id-1 label.sk-toggleable__label {\n",
       "  cursor: pointer;\n",
       "  display: block;\n",
       "  width: 100%;\n",
       "  margin-bottom: 0;\n",
       "  padding: 0.5em;\n",
       "  box-sizing: border-box;\n",
       "  text-align: center;\n",
       "}\n",
       "\n",
       "#sk-container-id-1 label.sk-toggleable__label-arrow:before {\n",
       "  /* Arrow on the left of the label */\n",
       "  content: \"▸\";\n",
       "  float: left;\n",
       "  margin-right: 0.25em;\n",
       "  color: var(--sklearn-color-icon);\n",
       "}\n",
       "\n",
       "#sk-container-id-1 label.sk-toggleable__label-arrow:hover:before {\n",
       "  color: var(--sklearn-color-text);\n",
       "}\n",
       "\n",
       "/* Toggleable content - dropdown */\n",
       "\n",
       "#sk-container-id-1 div.sk-toggleable__content {\n",
       "  max-height: 0;\n",
       "  max-width: 0;\n",
       "  overflow: hidden;\n",
       "  text-align: left;\n",
       "  /* unfitted */\n",
       "  background-color: var(--sklearn-color-unfitted-level-0);\n",
       "}\n",
       "\n",
       "#sk-container-id-1 div.sk-toggleable__content.fitted {\n",
       "  /* fitted */\n",
       "  background-color: var(--sklearn-color-fitted-level-0);\n",
       "}\n",
       "\n",
       "#sk-container-id-1 div.sk-toggleable__content pre {\n",
       "  margin: 0.2em;\n",
       "  border-radius: 0.25em;\n",
       "  color: var(--sklearn-color-text);\n",
       "  /* unfitted */\n",
       "  background-color: var(--sklearn-color-unfitted-level-0);\n",
       "}\n",
       "\n",
       "#sk-container-id-1 div.sk-toggleable__content.fitted pre {\n",
       "  /* unfitted */\n",
       "  background-color: var(--sklearn-color-fitted-level-0);\n",
       "}\n",
       "\n",
       "#sk-container-id-1 input.sk-toggleable__control:checked~div.sk-toggleable__content {\n",
       "  /* Expand drop-down */\n",
       "  max-height: 200px;\n",
       "  max-width: 100%;\n",
       "  overflow: auto;\n",
       "}\n",
       "\n",
       "#sk-container-id-1 input.sk-toggleable__control:checked~label.sk-toggleable__label-arrow:before {\n",
       "  content: \"▾\";\n",
       "}\n",
       "\n",
       "/* Pipeline/ColumnTransformer-specific style */\n",
       "\n",
       "#sk-container-id-1 div.sk-label input.sk-toggleable__control:checked~label.sk-toggleable__label {\n",
       "  color: var(--sklearn-color-text);\n",
       "  background-color: var(--sklearn-color-unfitted-level-2);\n",
       "}\n",
       "\n",
       "#sk-container-id-1 div.sk-label.fitted input.sk-toggleable__control:checked~label.sk-toggleable__label {\n",
       "  background-color: var(--sklearn-color-fitted-level-2);\n",
       "}\n",
       "\n",
       "/* Estimator-specific style */\n",
       "\n",
       "/* Colorize estimator box */\n",
       "#sk-container-id-1 div.sk-estimator input.sk-toggleable__control:checked~label.sk-toggleable__label {\n",
       "  /* unfitted */\n",
       "  background-color: var(--sklearn-color-unfitted-level-2);\n",
       "}\n",
       "\n",
       "#sk-container-id-1 div.sk-estimator.fitted input.sk-toggleable__control:checked~label.sk-toggleable__label {\n",
       "  /* fitted */\n",
       "  background-color: var(--sklearn-color-fitted-level-2);\n",
       "}\n",
       "\n",
       "#sk-container-id-1 div.sk-label label.sk-toggleable__label,\n",
       "#sk-container-id-1 div.sk-label label {\n",
       "  /* The background is the default theme color */\n",
       "  color: var(--sklearn-color-text-on-default-background);\n",
       "}\n",
       "\n",
       "/* On hover, darken the color of the background */\n",
       "#sk-container-id-1 div.sk-label:hover label.sk-toggleable__label {\n",
       "  color: var(--sklearn-color-text);\n",
       "  background-color: var(--sklearn-color-unfitted-level-2);\n",
       "}\n",
       "\n",
       "/* Label box, darken color on hover, fitted */\n",
       "#sk-container-id-1 div.sk-label.fitted:hover label.sk-toggleable__label.fitted {\n",
       "  color: var(--sklearn-color-text);\n",
       "  background-color: var(--sklearn-color-fitted-level-2);\n",
       "}\n",
       "\n",
       "/* Estimator label */\n",
       "\n",
       "#sk-container-id-1 div.sk-label label {\n",
       "  font-family: monospace;\n",
       "  font-weight: bold;\n",
       "  display: inline-block;\n",
       "  line-height: 1.2em;\n",
       "}\n",
       "\n",
       "#sk-container-id-1 div.sk-label-container {\n",
       "  text-align: center;\n",
       "}\n",
       "\n",
       "/* Estimator-specific */\n",
       "#sk-container-id-1 div.sk-estimator {\n",
       "  font-family: monospace;\n",
       "  border: 1px dotted var(--sklearn-color-border-box);\n",
       "  border-radius: 0.25em;\n",
       "  box-sizing: border-box;\n",
       "  margin-bottom: 0.5em;\n",
       "  /* unfitted */\n",
       "  background-color: var(--sklearn-color-unfitted-level-0);\n",
       "}\n",
       "\n",
       "#sk-container-id-1 div.sk-estimator.fitted {\n",
       "  /* fitted */\n",
       "  background-color: var(--sklearn-color-fitted-level-0);\n",
       "}\n",
       "\n",
       "/* on hover */\n",
       "#sk-container-id-1 div.sk-estimator:hover {\n",
       "  /* unfitted */\n",
       "  background-color: var(--sklearn-color-unfitted-level-2);\n",
       "}\n",
       "\n",
       "#sk-container-id-1 div.sk-estimator.fitted:hover {\n",
       "  /* fitted */\n",
       "  background-color: var(--sklearn-color-fitted-level-2);\n",
       "}\n",
       "\n",
       "/* Specification for estimator info (e.g. \"i\" and \"?\") */\n",
       "\n",
       "/* Common style for \"i\" and \"?\" */\n",
       "\n",
       ".sk-estimator-doc-link,\n",
       "a:link.sk-estimator-doc-link,\n",
       "a:visited.sk-estimator-doc-link {\n",
       "  float: right;\n",
       "  font-size: smaller;\n",
       "  line-height: 1em;\n",
       "  font-family: monospace;\n",
       "  background-color: var(--sklearn-color-background);\n",
       "  border-radius: 1em;\n",
       "  height: 1em;\n",
       "  width: 1em;\n",
       "  text-decoration: none !important;\n",
       "  margin-left: 1ex;\n",
       "  /* unfitted */\n",
       "  border: var(--sklearn-color-unfitted-level-1) 1pt solid;\n",
       "  color: var(--sklearn-color-unfitted-level-1);\n",
       "}\n",
       "\n",
       ".sk-estimator-doc-link.fitted,\n",
       "a:link.sk-estimator-doc-link.fitted,\n",
       "a:visited.sk-estimator-doc-link.fitted {\n",
       "  /* fitted */\n",
       "  border: var(--sklearn-color-fitted-level-1) 1pt solid;\n",
       "  color: var(--sklearn-color-fitted-level-1);\n",
       "}\n",
       "\n",
       "/* On hover */\n",
       "div.sk-estimator:hover .sk-estimator-doc-link:hover,\n",
       ".sk-estimator-doc-link:hover,\n",
       "div.sk-label-container:hover .sk-estimator-doc-link:hover,\n",
       ".sk-estimator-doc-link:hover {\n",
       "  /* unfitted */\n",
       "  background-color: var(--sklearn-color-unfitted-level-3);\n",
       "  color: var(--sklearn-color-background);\n",
       "  text-decoration: none;\n",
       "}\n",
       "\n",
       "div.sk-estimator.fitted:hover .sk-estimator-doc-link.fitted:hover,\n",
       ".sk-estimator-doc-link.fitted:hover,\n",
       "div.sk-label-container:hover .sk-estimator-doc-link.fitted:hover,\n",
       ".sk-estimator-doc-link.fitted:hover {\n",
       "  /* fitted */\n",
       "  background-color: var(--sklearn-color-fitted-level-3);\n",
       "  color: var(--sklearn-color-background);\n",
       "  text-decoration: none;\n",
       "}\n",
       "\n",
       "/* Span, style for the box shown on hovering the info icon */\n",
       ".sk-estimator-doc-link span {\n",
       "  display: none;\n",
       "  z-index: 9999;\n",
       "  position: relative;\n",
       "  font-weight: normal;\n",
       "  right: .2ex;\n",
       "  padding: .5ex;\n",
       "  margin: .5ex;\n",
       "  width: min-content;\n",
       "  min-width: 20ex;\n",
       "  max-width: 50ex;\n",
       "  color: var(--sklearn-color-text);\n",
       "  box-shadow: 2pt 2pt 4pt #999;\n",
       "  /* unfitted */\n",
       "  background: var(--sklearn-color-unfitted-level-0);\n",
       "  border: .5pt solid var(--sklearn-color-unfitted-level-3);\n",
       "}\n",
       "\n",
       ".sk-estimator-doc-link.fitted span {\n",
       "  /* fitted */\n",
       "  background: var(--sklearn-color-fitted-level-0);\n",
       "  border: var(--sklearn-color-fitted-level-3);\n",
       "}\n",
       "\n",
       ".sk-estimator-doc-link:hover span {\n",
       "  display: block;\n",
       "}\n",
       "\n",
       "/* \"?\"-specific style due to the `<a>` HTML tag */\n",
       "\n",
       "#sk-container-id-1 a.estimator_doc_link {\n",
       "  float: right;\n",
       "  font-size: 1rem;\n",
       "  line-height: 1em;\n",
       "  font-family: monospace;\n",
       "  background-color: var(--sklearn-color-background);\n",
       "  border-radius: 1rem;\n",
       "  height: 1rem;\n",
       "  width: 1rem;\n",
       "  text-decoration: none;\n",
       "  /* unfitted */\n",
       "  color: var(--sklearn-color-unfitted-level-1);\n",
       "  border: var(--sklearn-color-unfitted-level-1) 1pt solid;\n",
       "}\n",
       "\n",
       "#sk-container-id-1 a.estimator_doc_link.fitted {\n",
       "  /* fitted */\n",
       "  border: var(--sklearn-color-fitted-level-1) 1pt solid;\n",
       "  color: var(--sklearn-color-fitted-level-1);\n",
       "}\n",
       "\n",
       "/* On hover */\n",
       "#sk-container-id-1 a.estimator_doc_link:hover {\n",
       "  /* unfitted */\n",
       "  background-color: var(--sklearn-color-unfitted-level-3);\n",
       "  color: var(--sklearn-color-background);\n",
       "  text-decoration: none;\n",
       "}\n",
       "\n",
       "#sk-container-id-1 a.estimator_doc_link.fitted:hover {\n",
       "  /* fitted */\n",
       "  background-color: var(--sklearn-color-fitted-level-3);\n",
       "}\n",
       "</style><div id=\"sk-container-id-1\" class=\"sk-top-container\"><div class=\"sk-text-repr-fallback\"><pre>RandomizedSearchCV(cv=3,\n",
       "                   estimator=Pipeline(steps=[(&#x27;preprocessor&#x27;,\n",
       "                                              ColumnTransformer(transformers=[(&#x27;num&#x27;,\n",
       "                                                                               StandardScaler(),\n",
       "                                                                               [&#x27;GP&#x27;,\n",
       "                                                                                &#x27;Min_per&#x27;,\n",
       "                                                                                &#x27;Ortg&#x27;,\n",
       "                                                                                &#x27;usg&#x27;,\n",
       "                                                                                &#x27;eFG&#x27;,\n",
       "                                                                                &#x27;TS_per&#x27;,\n",
       "                                                                                &#x27;ORB_per&#x27;,\n",
       "                                                                                &#x27;DRB_per&#x27;,\n",
       "                                                                                &#x27;AST_per&#x27;,\n",
       "                                                                                &#x27;TO_per&#x27;,\n",
       "                                                                                &#x27;FTM&#x27;,\n",
       "                                                                                &#x27;FTA&#x27;,\n",
       "                                                                                &#x27;FT_per&#x27;,\n",
       "                                                                                &#x27;twoPM&#x27;,\n",
       "                                                                                &#x27;twoPA&#x27;,\n",
       "                                                                                &#x27;twoP_per&#x27;,\n",
       "                                                                                &#x27;TPM&#x27;,\n",
       "                                                                                &#x27;TPA&#x27;,\n",
       "                                                                                &#x27;TP_per&#x27;,\n",
       "                                                                                &#x27;blk_per&#x27;,\n",
       "                                                                                &#x27;stl_per&#x27;,\n",
       "                                                                                &#x27;ftr&#x27;,\n",
       "                                                                                &#x27;ht&#x27;,\n",
       "                                                                                &#x27;porpag&#x27;,\n",
       "                                                                                &#x27;adjoe&#x27;,\n",
       "                                                                                &#x27;pfr&#x27;,\n",
       "                                                                                &#x27;ast_tov&#x27;,\n",
       "                                                                                &#x27;rimmade&#x27;,\n",
       "                                                                                &#x27;r...\n",
       "                                        &#x27;classifier__n_estimators&#x27;: &lt;scipy.stats._distn_infrastructure.rv_discrete_frozen object at 0x123e13e50&gt;,\n",
       "                                        &#x27;classifier__reg_alpha&#x27;: &lt;scipy.stats._distn_infrastructure.rv_continuous_frozen object at 0x131c755d0&gt;,\n",
       "                                        &#x27;classifier__reg_lambda&#x27;: &lt;scipy.stats._distn_infrastructure.rv_continuous_frozen object at 0x131c75c10&gt;,\n",
       "                                        &#x27;classifier__scale_pos_weight&#x27;: &lt;scipy.stats._distn_infrastructure.rv_continuous_frozen object at 0x131c76250&gt;},\n",
       "                   random_state=42, scoring=&#x27;roc_auc&#x27;)</pre><b>In a Jupyter environment, please rerun this cell to show the HTML representation or trust the notebook. <br />On GitHub, the HTML representation is unable to render, please try loading this page with nbviewer.org.</b></div><div class=\"sk-container\" hidden><div class=\"sk-item sk-dashed-wrapped\"><div class=\"sk-label-container\"><div class=\"sk-label fitted sk-toggleable\"><input class=\"sk-toggleable__control sk-hidden--visually\" id=\"sk-estimator-id-1\" type=\"checkbox\" ><label for=\"sk-estimator-id-1\" class=\"sk-toggleable__label fitted sk-toggleable__label-arrow fitted\">&nbsp;&nbsp;RandomizedSearchCV<a class=\"sk-estimator-doc-link fitted\" rel=\"noreferrer\" target=\"_blank\" href=\"https://scikit-learn.org/1.5/modules/generated/sklearn.model_selection.RandomizedSearchCV.html\">?<span>Documentation for RandomizedSearchCV</span></a><span class=\"sk-estimator-doc-link fitted\">i<span>Fitted</span></span></label><div class=\"sk-toggleable__content fitted\"><pre>RandomizedSearchCV(cv=3,\n",
       "                   estimator=Pipeline(steps=[(&#x27;preprocessor&#x27;,\n",
       "                                              ColumnTransformer(transformers=[(&#x27;num&#x27;,\n",
       "                                                                               StandardScaler(),\n",
       "                                                                               [&#x27;GP&#x27;,\n",
       "                                                                                &#x27;Min_per&#x27;,\n",
       "                                                                                &#x27;Ortg&#x27;,\n",
       "                                                                                &#x27;usg&#x27;,\n",
       "                                                                                &#x27;eFG&#x27;,\n",
       "                                                                                &#x27;TS_per&#x27;,\n",
       "                                                                                &#x27;ORB_per&#x27;,\n",
       "                                                                                &#x27;DRB_per&#x27;,\n",
       "                                                                                &#x27;AST_per&#x27;,\n",
       "                                                                                &#x27;TO_per&#x27;,\n",
       "                                                                                &#x27;FTM&#x27;,\n",
       "                                                                                &#x27;FTA&#x27;,\n",
       "                                                                                &#x27;FT_per&#x27;,\n",
       "                                                                                &#x27;twoPM&#x27;,\n",
       "                                                                                &#x27;twoPA&#x27;,\n",
       "                                                                                &#x27;twoP_per&#x27;,\n",
       "                                                                                &#x27;TPM&#x27;,\n",
       "                                                                                &#x27;TPA&#x27;,\n",
       "                                                                                &#x27;TP_per&#x27;,\n",
       "                                                                                &#x27;blk_per&#x27;,\n",
       "                                                                                &#x27;stl_per&#x27;,\n",
       "                                                                                &#x27;ftr&#x27;,\n",
       "                                                                                &#x27;ht&#x27;,\n",
       "                                                                                &#x27;porpag&#x27;,\n",
       "                                                                                &#x27;adjoe&#x27;,\n",
       "                                                                                &#x27;pfr&#x27;,\n",
       "                                                                                &#x27;ast_tov&#x27;,\n",
       "                                                                                &#x27;rimmade&#x27;,\n",
       "                                                                                &#x27;r...\n",
       "                                        &#x27;classifier__n_estimators&#x27;: &lt;scipy.stats._distn_infrastructure.rv_discrete_frozen object at 0x123e13e50&gt;,\n",
       "                                        &#x27;classifier__reg_alpha&#x27;: &lt;scipy.stats._distn_infrastructure.rv_continuous_frozen object at 0x131c755d0&gt;,\n",
       "                                        &#x27;classifier__reg_lambda&#x27;: &lt;scipy.stats._distn_infrastructure.rv_continuous_frozen object at 0x131c75c10&gt;,\n",
       "                                        &#x27;classifier__scale_pos_weight&#x27;: &lt;scipy.stats._distn_infrastructure.rv_continuous_frozen object at 0x131c76250&gt;},\n",
       "                   random_state=42, scoring=&#x27;roc_auc&#x27;)</pre></div> </div></div><div class=\"sk-parallel\"><div class=\"sk-parallel-item\"><div class=\"sk-item\"><div class=\"sk-label-container\"><div class=\"sk-label fitted sk-toggleable\"><input class=\"sk-toggleable__control sk-hidden--visually\" id=\"sk-estimator-id-2\" type=\"checkbox\" ><label for=\"sk-estimator-id-2\" class=\"sk-toggleable__label fitted sk-toggleable__label-arrow fitted\">best_estimator_: Pipeline</label><div class=\"sk-toggleable__content fitted\"><pre>Pipeline(steps=[(&#x27;preprocessor&#x27;,\n",
       "                 ColumnTransformer(transformers=[(&#x27;num&#x27;, StandardScaler(),\n",
       "                                                  [&#x27;GP&#x27;, &#x27;Min_per&#x27;, &#x27;Ortg&#x27;,\n",
       "                                                   &#x27;usg&#x27;, &#x27;eFG&#x27;, &#x27;TS_per&#x27;,\n",
       "                                                   &#x27;ORB_per&#x27;, &#x27;DRB_per&#x27;,\n",
       "                                                   &#x27;AST_per&#x27;, &#x27;TO_per&#x27;, &#x27;FTM&#x27;,\n",
       "                                                   &#x27;FTA&#x27;, &#x27;FT_per&#x27;, &#x27;twoPM&#x27;,\n",
       "                                                   &#x27;twoPA&#x27;, &#x27;twoP_per&#x27;, &#x27;TPM&#x27;,\n",
       "                                                   &#x27;TPA&#x27;, &#x27;TP_per&#x27;, &#x27;blk_per&#x27;,\n",
       "                                                   &#x27;stl_per&#x27;, &#x27;ftr&#x27;, &#x27;ht&#x27;,\n",
       "                                                   &#x27;porpag&#x27;, &#x27;adjoe&#x27;, &#x27;pfr&#x27;,\n",
       "                                                   &#x27;ast_tov&#x27;, &#x27;rimmade&#x27;,\n",
       "                                                   &#x27;rimmade_rimmiss&#x27;, &#x27;midmade&#x27;, ...]),\n",
       "                                                 (&#x27;...\n",
       "                               grow_policy=None, importance_type=None,\n",
       "                               interaction_constraints=None,\n",
       "                               learning_rate=np.float64(0.2952142919229748),\n",
       "                               max_bin=None, max_cat_threshold=None,\n",
       "                               max_cat_to_onehot=None, max_delta_step=None,\n",
       "                               max_depth=5, max_leaves=None,\n",
       "                               min_child_weight=None, missing=nan,\n",
       "                               monotone_constraints=None, multi_strategy=None,\n",
       "                               n_estimators=81, n_jobs=None,\n",
       "                               num_parallel_tree=None, random_state=None, ...))])</pre></div> </div></div><div class=\"sk-serial\"><div class=\"sk-item\"><div class=\"sk-serial\"><div class=\"sk-item sk-dashed-wrapped\"><div class=\"sk-label-container\"><div class=\"sk-label fitted sk-toggleable\"><input class=\"sk-toggleable__control sk-hidden--visually\" id=\"sk-estimator-id-3\" type=\"checkbox\" ><label for=\"sk-estimator-id-3\" class=\"sk-toggleable__label fitted sk-toggleable__label-arrow fitted\">&nbsp;preprocessor: ColumnTransformer<a class=\"sk-estimator-doc-link fitted\" rel=\"noreferrer\" target=\"_blank\" href=\"https://scikit-learn.org/1.5/modules/generated/sklearn.compose.ColumnTransformer.html\">?<span>Documentation for preprocessor: ColumnTransformer</span></a></label><div class=\"sk-toggleable__content fitted\"><pre>ColumnTransformer(transformers=[(&#x27;num&#x27;, StandardScaler(),\n",
       "                                 [&#x27;GP&#x27;, &#x27;Min_per&#x27;, &#x27;Ortg&#x27;, &#x27;usg&#x27;, &#x27;eFG&#x27;,\n",
       "                                  &#x27;TS_per&#x27;, &#x27;ORB_per&#x27;, &#x27;DRB_per&#x27;, &#x27;AST_per&#x27;,\n",
       "                                  &#x27;TO_per&#x27;, &#x27;FTM&#x27;, &#x27;FTA&#x27;, &#x27;FT_per&#x27;, &#x27;twoPM&#x27;,\n",
       "                                  &#x27;twoPA&#x27;, &#x27;twoP_per&#x27;, &#x27;TPM&#x27;, &#x27;TPA&#x27;, &#x27;TP_per&#x27;,\n",
       "                                  &#x27;blk_per&#x27;, &#x27;stl_per&#x27;, &#x27;ftr&#x27;, &#x27;ht&#x27;, &#x27;porpag&#x27;,\n",
       "                                  &#x27;adjoe&#x27;, &#x27;pfr&#x27;, &#x27;ast_tov&#x27;, &#x27;rimmade&#x27;,\n",
       "                                  &#x27;rimmade_rimmiss&#x27;, &#x27;midmade&#x27;, ...]),\n",
       "                                (&#x27;cat&#x27;, OneHotEncoder(drop=&#x27;first&#x27;),\n",
       "                                 [&#x27;conf&#x27;, &#x27;yr&#x27;, &#x27;type&#x27;])])</pre></div> </div></div><div class=\"sk-parallel\"><div class=\"sk-parallel-item\"><div class=\"sk-item\"><div class=\"sk-label-container\"><div class=\"sk-label fitted sk-toggleable\"><input class=\"sk-toggleable__control sk-hidden--visually\" id=\"sk-estimator-id-4\" type=\"checkbox\" ><label for=\"sk-estimator-id-4\" class=\"sk-toggleable__label fitted sk-toggleable__label-arrow fitted\">num</label><div class=\"sk-toggleable__content fitted\"><pre>[&#x27;GP&#x27;, &#x27;Min_per&#x27;, &#x27;Ortg&#x27;, &#x27;usg&#x27;, &#x27;eFG&#x27;, &#x27;TS_per&#x27;, &#x27;ORB_per&#x27;, &#x27;DRB_per&#x27;, &#x27;AST_per&#x27;, &#x27;TO_per&#x27;, &#x27;FTM&#x27;, &#x27;FTA&#x27;, &#x27;FT_per&#x27;, &#x27;twoPM&#x27;, &#x27;twoPA&#x27;, &#x27;twoP_per&#x27;, &#x27;TPM&#x27;, &#x27;TPA&#x27;, &#x27;TP_per&#x27;, &#x27;blk_per&#x27;, &#x27;stl_per&#x27;, &#x27;ftr&#x27;, &#x27;ht&#x27;, &#x27;porpag&#x27;, &#x27;adjoe&#x27;, &#x27;pfr&#x27;, &#x27;ast_tov&#x27;, &#x27;rimmade&#x27;, &#x27;rimmade_rimmiss&#x27;, &#x27;midmade&#x27;, &#x27;midmade_midmiss&#x27;, &#x27;rim_ratio&#x27;, &#x27;mid_ratio&#x27;, &#x27;dunksmade&#x27;, &#x27;dunksmiss_dunksmade&#x27;, &#x27;dunks_ratio&#x27;, &#x27;pick&#x27;, &#x27;drtg&#x27;, &#x27;adrtg&#x27;, &#x27;dporpag&#x27;, &#x27;stops&#x27;, &#x27;bpm&#x27;, &#x27;obpm&#x27;, &#x27;dbpm&#x27;, &#x27;gbpm&#x27;, &#x27;mp&#x27;, &#x27;ogbpm&#x27;, &#x27;dgbpm&#x27;, &#x27;oreb&#x27;, &#x27;dreb&#x27;, &#x27;treb&#x27;, &#x27;ast&#x27;, &#x27;stl&#x27;, &#x27;blk&#x27;, &#x27;pts&#x27;]</pre></div> </div></div><div class=\"sk-serial\"><div class=\"sk-item\"><div class=\"sk-estimator fitted sk-toggleable\"><input class=\"sk-toggleable__control sk-hidden--visually\" id=\"sk-estimator-id-5\" type=\"checkbox\" ><label for=\"sk-estimator-id-5\" class=\"sk-toggleable__label fitted sk-toggleable__label-arrow fitted\">&nbsp;StandardScaler<a class=\"sk-estimator-doc-link fitted\" rel=\"noreferrer\" target=\"_blank\" href=\"https://scikit-learn.org/1.5/modules/generated/sklearn.preprocessing.StandardScaler.html\">?<span>Documentation for StandardScaler</span></a></label><div class=\"sk-toggleable__content fitted\"><pre>StandardScaler()</pre></div> </div></div></div></div></div><div class=\"sk-parallel-item\"><div class=\"sk-item\"><div class=\"sk-label-container\"><div class=\"sk-label fitted sk-toggleable\"><input class=\"sk-toggleable__control sk-hidden--visually\" id=\"sk-estimator-id-6\" type=\"checkbox\" ><label for=\"sk-estimator-id-6\" class=\"sk-toggleable__label fitted sk-toggleable__label-arrow fitted\">cat</label><div class=\"sk-toggleable__content fitted\"><pre>[&#x27;conf&#x27;, &#x27;yr&#x27;, &#x27;type&#x27;]</pre></div> </div></div><div class=\"sk-serial\"><div class=\"sk-item\"><div class=\"sk-estimator fitted sk-toggleable\"><input class=\"sk-toggleable__control sk-hidden--visually\" id=\"sk-estimator-id-7\" type=\"checkbox\" ><label for=\"sk-estimator-id-7\" class=\"sk-toggleable__label fitted sk-toggleable__label-arrow fitted\">&nbsp;OneHotEncoder<a class=\"sk-estimator-doc-link fitted\" rel=\"noreferrer\" target=\"_blank\" href=\"https://scikit-learn.org/1.5/modules/generated/sklearn.preprocessing.OneHotEncoder.html\">?<span>Documentation for OneHotEncoder</span></a></label><div class=\"sk-toggleable__content fitted\"><pre>OneHotEncoder(drop=&#x27;first&#x27;)</pre></div> </div></div></div></div></div></div></div><div class=\"sk-item\"><div class=\"sk-estimator fitted sk-toggleable\"><input class=\"sk-toggleable__control sk-hidden--visually\" id=\"sk-estimator-id-8\" type=\"checkbox\" ><label for=\"sk-estimator-id-8\" class=\"sk-toggleable__label fitted sk-toggleable__label-arrow fitted\">XGBClassifier</label><div class=\"sk-toggleable__content fitted\"><pre>XGBClassifier(base_score=None, booster=None, callbacks=None,\n",
       "              colsample_bylevel=None, colsample_bynode=None,\n",
       "              colsample_bytree=None, device=None, early_stopping_rounds=None,\n",
       "              enable_categorical=False, eval_metric=None, feature_types=None,\n",
       "              gamma=np.float64(0.18727005942368125), grow_policy=None,\n",
       "              importance_type=None, interaction_constraints=None,\n",
       "              learning_rate=np.float64(0.2952142919229748), max_bin=None,\n",
       "              max_cat_threshold=None, max_cat_to_onehot=None,\n",
       "              max_delta_step=None, max_depth=5, max_leaves=None,\n",
       "              min_child_weight=None, missing=nan, monotone_constraints=None,\n",
       "              multi_strategy=None, n_estimators=81, n_jobs=None,\n",
       "              num_parallel_tree=None, random_state=None, ...)</pre></div> </div></div></div></div></div></div></div></div></div></div></div>"
      ],
      "text/plain": [
       "RandomizedSearchCV(cv=3,\n",
       "                   estimator=Pipeline(steps=[('preprocessor',\n",
       "                                              ColumnTransformer(transformers=[('num',\n",
       "                                                                               StandardScaler(),\n",
       "                                                                               ['GP',\n",
       "                                                                                'Min_per',\n",
       "                                                                                'Ortg',\n",
       "                                                                                'usg',\n",
       "                                                                                'eFG',\n",
       "                                                                                'TS_per',\n",
       "                                                                                'ORB_per',\n",
       "                                                                                'DRB_per',\n",
       "                                                                                'AST_per',\n",
       "                                                                                'TO_per',\n",
       "                                                                                'FTM',\n",
       "                                                                                'FTA',\n",
       "                                                                                'FT_per',\n",
       "                                                                                'twoPM',\n",
       "                                                                                'twoPA',\n",
       "                                                                                'twoP_per',\n",
       "                                                                                'TPM',\n",
       "                                                                                'TPA',\n",
       "                                                                                'TP_per',\n",
       "                                                                                'blk_per',\n",
       "                                                                                'stl_per',\n",
       "                                                                                'ftr',\n",
       "                                                                                'ht',\n",
       "                                                                                'porpag',\n",
       "                                                                                'adjoe',\n",
       "                                                                                'pfr',\n",
       "                                                                                'ast_tov',\n",
       "                                                                                'rimmade',\n",
       "                                                                                'r...\n",
       "                                        'classifier__n_estimators': <scipy.stats._distn_infrastructure.rv_discrete_frozen object at 0x123e13e50>,\n",
       "                                        'classifier__reg_alpha': <scipy.stats._distn_infrastructure.rv_continuous_frozen object at 0x131c755d0>,\n",
       "                                        'classifier__reg_lambda': <scipy.stats._distn_infrastructure.rv_continuous_frozen object at 0x131c75c10>,\n",
       "                                        'classifier__scale_pos_weight': <scipy.stats._distn_infrastructure.rv_continuous_frozen object at 0x131c76250>},\n",
       "                   random_state=42, scoring='roc_auc')"
      ]
     },
     "execution_count": 18,
     "metadata": {},
     "output_type": "execute_result"
    }
   ],
   "source": [
    "# 5. Train the model\n",
    "random_search.fit(X_train, y_train)"
   ]
  },
  {
   "cell_type": "code",
   "execution_count": 19,
   "metadata": {},
   "outputs": [
    {
     "data": {
      "text/plain": [
       "{'classifier__gamma': np.float64(0.18727005942368125),\n",
       " 'classifier__learning_rate': np.float64(0.2952142919229748),\n",
       " 'classifier__max_depth': 5,\n",
       " 'classifier__n_estimators': 81,\n",
       " 'classifier__reg_alpha': np.float64(0.6086584841970366),\n",
       " 'classifier__reg_lambda': np.float64(0.16601864044243653),\n",
       " 'classifier__scale_pos_weight': np.float64(2.5599452033620267)}"
      ]
     },
     "execution_count": 19,
     "metadata": {},
     "output_type": "execute_result"
    }
   ],
   "source": [
    "random_search.best_params_"
   ]
  },
  {
   "cell_type": "code",
   "execution_count": 20,
   "metadata": {},
   "outputs": [],
   "source": [
    "best_model = random_search.best_estimator_"
   ]
  },
  {
   "cell_type": "code",
   "execution_count": 21,
   "metadata": {},
   "outputs": [],
   "source": [
    "# 6. Predict on the test set\n",
    "y_pred = best_model.predict(X_train)\n",
    "y_pred_proba = best_model.predict_proba(X_train)[:, 1]  # Get the probability estimates for the positive class"
   ]
  },
  {
   "cell_type": "code",
   "execution_count": 22,
   "metadata": {},
   "outputs": [
    {
     "name": "stdout",
     "output_type": "stream",
     "text": [
      "\n",
      "Classification Report:\n",
      "              precision    recall  f1-score   support\n",
      "\n",
      "         0.0       1.00      1.00      1.00     32321\n",
      "         1.0       1.00      1.00      1.00       311\n",
      "\n",
      "    accuracy                           1.00     32632\n",
      "   macro avg       1.00      1.00      1.00     32632\n",
      "weighted avg       1.00      1.00      1.00     32632\n",
      "\n"
     ]
    }
   ],
   "source": [
    "# Classification Report\n",
    "print(\"\\nClassification Report:\")\n",
    "print(classification_report(y_train, y_pred))"
   ]
  },
  {
   "cell_type": "code",
   "execution_count": 23,
   "metadata": {},
   "outputs": [
    {
     "name": "stdout",
     "output_type": "stream",
     "text": [
      "Accuracy: 1.0000\n"
     ]
    }
   ],
   "source": [
    "# 7. Evaluate the model\n",
    "accuracy = accuracy_score(y_train, y_pred)\n",
    "print(f'Accuracy: {accuracy:.4f}')"
   ]
  },
  {
   "cell_type": "code",
   "execution_count": 24,
   "metadata": {},
   "outputs": [
    {
     "name": "stdout",
     "output_type": "stream",
     "text": [
      "\n",
      "ROC AUC Score: 1.0000\n"
     ]
    }
   ],
   "source": [
    "# 8. ROC AUC Score\n",
    "roc_auc = roc_auc_score(y_train, y_pred_proba)\n",
    "print(f'\\nROC AUC Score: {roc_auc:.4f}')"
   ]
  },
  {
   "cell_type": "code",
   "execution_count": 25,
   "metadata": {},
   "outputs": [
    {
     "data": {
      "image/png": "[encoded data removed]",
      "text/plain": [
       "<Figure size 600x400 with 2 Axes>"
      ]
     },
     "metadata": {},
     "output_type": "display_data"
    }
   ],
   "source": [
    "# Confusion Matrix\n",
    "# Compute the confusion matrix\n",
    "confusion_matrix_plot(y_train, y_pred)"
   ]
  },
  {
   "cell_type": "code",
   "execution_count": 26,
   "metadata": {},
   "outputs": [],
   "source": [
    "# 6. Predict on the test set\n",
    "y_pred_val = best_model.predict(X_val)\n",
    "y_pred_proba_val = best_model.predict_proba(X_val)[:, 1]  # Get the probability estimates for the positive class"
   ]
  },
  {
   "cell_type": "code",
   "execution_count": 27,
   "metadata": {},
   "outputs": [
    {
     "data": {
      "image/png": "[encoded data removed]",
      "text/plain": [
       "<Figure size 600x400 with 2 Axes>"
      ]
     },
     "metadata": {},
     "output_type": "display_data"
    }
   ],
   "source": [
    "# Confusion Matrix\n",
    "confusion_matrix_plot(y_val, y_pred_val)"
   ]
  },
  {
   "cell_type": "code",
   "execution_count": 28,
   "metadata": {},
   "outputs": [
    {
     "name": "stdout",
     "output_type": "stream",
     "text": [
      "\n",
      "ROC AUC Score: 0.9972\n"
     ]
    }
   ],
   "source": [
    "# 8. ROC AUC Score\n",
    "roc_auc = roc_auc_score(y_val, y_pred_proba_val)\n",
    "print(f'\\nROC AUC Score: {roc_auc:.4f}')"
   ]
  },
  {
   "cell_type": "code",
   "execution_count": 29,
   "metadata": {
    "scrolled": true
   },
   "outputs": [
    {
     "data": {
      "image/png": "[encoded data removed]",
      "text/plain": [
       "<Figure size 800x600 with 1 Axes>"
      ]
     },
     "metadata": {},
     "output_type": "display_data"
    }
   ],
   "source": [
    "# 9. Plot ROC Curve\n",
    "roc_curve_plot(y_val, y_pred_proba_val)"
   ]
  },
  {
   "cell_type": "code",
   "execution_count": 30,
   "metadata": {},
   "outputs": [],
   "source": [
    "test_df['predicted_probability'] = best_model.predict_proba(X_test)[:,1]"
   ]
  },
  {
   "cell_type": "code",
   "execution_count": 33,
   "metadata": {},
   "outputs": [],
   "source": [
    "test_df[['player_id', 'predicted_probability']].to_csv('submission_grad.csv', index=False)"
   ]
  },
  {
   "cell_type": "code",
   "execution_count": 34,
   "metadata": {},
   "outputs": [
    {
     "data": {
      "text/html": [
       "<div>\n",
       "<style scoped>\n",
       "    .dataframe tbody tr th:only-of-type {\n",
       "        vertical-align: middle;\n",
       "    }\n",
       "\n",
       "    .dataframe tbody tr th {\n",
       "        vertical-align: top;\n",
       "    }\n",
       "\n",
       "    .dataframe thead th {\n",
       "        text-align: right;\n",
       "    }\n",
       "</style>\n",
       "<table border=\"1\" class=\"dataframe\">\n",
       "  <thead>\n",
       "    <tr style=\"text-align: right;\">\n",
       "      <th></th>\n",
       "      <th>player_id</th>\n",
       "      <th>predicted_probability</th>\n",
       "    </tr>\n",
       "  </thead>\n",
       "  <tbody>\n",
       "    <tr>\n",
       "      <th>0</th>\n",
       "      <td>23549e01-c1b3-4ca0-a0fd-de9b5d76276b</td>\n",
       "      <td>0.002781</td>\n",
       "    </tr>\n",
       "    <tr>\n",
       "      <th>1</th>\n",
       "      <td>52a518bb-b34a-4b43-adee-5e996cb853fa</td>\n",
       "      <td>0.002563</td>\n",
       "    </tr>\n",
       "    <tr>\n",
       "      <th>2</th>\n",
       "      <td>ad3d9117-b6bf-4675-ab97-3497acf3e555</td>\n",
       "      <td>0.015060</td>\n",
       "    </tr>\n",
       "    <tr>\n",
       "      <th>3</th>\n",
       "      <td>eaf66a5c-6f4c-4070-bc70-a99d731b3740</td>\n",
       "      <td>0.006748</td>\n",
       "    </tr>\n",
       "    <tr>\n",
       "      <th>4</th>\n",
       "      <td>55d07491-5bd1-447f-844e-9cb36eaa442e</td>\n",
       "      <td>0.024739</td>\n",
       "    </tr>\n",
       "    <tr>\n",
       "      <th>...</th>\n",
       "      <td>...</td>\n",
       "      <td>...</td>\n",
       "    </tr>\n",
       "    <tr>\n",
       "      <th>4965</th>\n",
       "      <td>28222513-8a1f-4a48-8fde-16888e9e11ce</td>\n",
       "      <td>0.016825</td>\n",
       "    </tr>\n",
       "    <tr>\n",
       "      <th>4966</th>\n",
       "      <td>c32a466d-7a66-47eb-805c-a94e328261bc</td>\n",
       "      <td>0.002213</td>\n",
       "    </tr>\n",
       "    <tr>\n",
       "      <th>4967</th>\n",
       "      <td>55f0ddef-9f29-47ae-87b5-da43c687d25c</td>\n",
       "      <td>0.003753</td>\n",
       "    </tr>\n",
       "    <tr>\n",
       "      <th>4968</th>\n",
       "      <td>460d6a42-5dbc-48f0-bc94-3650da83f345</td>\n",
       "      <td>0.003753</td>\n",
       "    </tr>\n",
       "    <tr>\n",
       "      <th>4969</th>\n",
       "      <td>00a16405-e17f-4b19-b7c0-c2de73b8361d</td>\n",
       "      <td>0.004924</td>\n",
       "    </tr>\n",
       "  </tbody>\n",
       "</table>\n",
       "<p>4970 rows × 2 columns</p>\n",
       "</div>"
      ],
      "text/plain": [
       "                                 player_id  predicted_probability\n",
       "0     23549e01-c1b3-4ca0-a0fd-de9b5d76276b               0.002781\n",
       "1     52a518bb-b34a-4b43-adee-5e996cb853fa               0.002563\n",
       "2     ad3d9117-b6bf-4675-ab97-3497acf3e555               0.015060\n",
       "3     eaf66a5c-6f4c-4070-bc70-a99d731b3740               0.006748\n",
       "4     55d07491-5bd1-447f-844e-9cb36eaa442e               0.024739\n",
       "...                                    ...                    ...\n",
       "4965  28222513-8a1f-4a48-8fde-16888e9e11ce               0.016825\n",
       "4966  c32a466d-7a66-47eb-805c-a94e328261bc               0.002213\n",
       "4967  55f0ddef-9f29-47ae-87b5-da43c687d25c               0.003753\n",
       "4968  460d6a42-5dbc-48f0-bc94-3650da83f345               0.003753\n",
       "4969  00a16405-e17f-4b19-b7c0-c2de73b8361d               0.004924\n",
       "\n",
       "[4970 rows x 2 columns]"
      ]
     },
     "execution_count": 34,
     "metadata": {},
     "output_type": "execute_result"
    }
   ],
   "source": [
    "test_df[['player_id', 'predicted_probability']]"
   ]
  },
  {
   "cell_type": "markdown",
   "metadata": {},
   "source": [
    "The model shows strong performance on both the validation 0.97 and test sets 0.91, with a high ROC AUC score and low misclassification rates. However, the difference in performance between the training and test sets indicates potential overfitting. This could be improved by implementing better generalization techniques, such as regularization or addressing class imbalance."
   ]
  }
 ],
 "metadata": {
  "colab": {
   "provenance": []
  },
  "kernelspec": {
   "display_name": "Python 3 (ipykernel)",
   "language": "python",
   "name": "python3"
  },
  "language_info": {
   "codemirror_mode": {
    "name": "ipython",
    "version": 3
   },
   "file_extension": ".py",
   "mimetype": "text/x-python",
   "name": "python",
   "nbconvert_exporter": "python",
   "pygments_lexer": "ipython3",
   "version": "3.11.0"
  }
 },
 "nbformat": 4,
 "nbformat_minor": 4
}
