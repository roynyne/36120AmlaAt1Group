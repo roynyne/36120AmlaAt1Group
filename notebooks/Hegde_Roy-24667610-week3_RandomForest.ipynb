{
 "cells": [
  {
   "cell_type": "markdown",
   "id": "9ca7039f",
   "metadata": {},
   "source": [
    "# 0. Import Libraries"
   ]
  },
  {
   "cell_type": "code",
   "execution_count": 50,
   "id": "65955a24",
   "metadata": {},
   "outputs": [],
   "source": [
    "# Suppress warnings related to future deprecations to ensure clean output.\n",
    "\n",
    "import warnings\n",
    "warnings.simplefilter(action='ignore', category=FutureWarning)\n",
    "\n",
    "# Import necessary libraries for data handling and visualization.\n",
    "\n",
    "import pandas as pd\n",
    "import numpy as np\n",
    "import seaborn as sns\n",
    "import matplotlib.pyplot as plt"
   ]
  },
  {
   "cell_type": "code",
   "execution_count": 25,
   "id": "98014805",
   "metadata": {
    "scrolled": true
   },
   "outputs": [
    {
     "name": "stdout",
     "output_type": "stream",
     "text": [
      "Requirement already satisfied: pandas in /Users/bananavodka/Library/Caches/pypoetry/virtualenvs/36120amlaat1group6-0c4MVYLi-py3.12/lib/python3.12/site-packages (2.2.2)\n",
      "Requirement already satisfied: numpy>=1.26.0 in /Users/bananavodka/Library/Caches/pypoetry/virtualenvs/36120amlaat1group6-0c4MVYLi-py3.12/lib/python3.12/site-packages (from pandas) (2.1.1)\n",
      "Requirement already satisfied: python-dateutil>=2.8.2 in /Users/bananavodka/Library/Caches/pypoetry/virtualenvs/36120amlaat1group6-0c4MVYLi-py3.12/lib/python3.12/site-packages (from pandas) (2.9.0.post0)\n",
      "Requirement already satisfied: pytz>=2020.1 in /Users/bananavodka/Library/Caches/pypoetry/virtualenvs/36120amlaat1group6-0c4MVYLi-py3.12/lib/python3.12/site-packages (from pandas) (2024.1)\n",
      "Requirement already satisfied: tzdata>=2022.7 in /Users/bananavodka/Library/Caches/pypoetry/virtualenvs/36120amlaat1group6-0c4MVYLi-py3.12/lib/python3.12/site-packages (from pandas) (2024.1)\n",
      "Requirement already satisfied: six>=1.5 in /Users/bananavodka/Library/Caches/pypoetry/virtualenvs/36120amlaat1group6-0c4MVYLi-py3.12/lib/python3.12/site-packages (from python-dateutil>=2.8.2->pandas) (1.16.0)\n",
      "\n",
      "\u001b[1m[\u001b[0m\u001b[34;49mnotice\u001b[0m\u001b[1;39;49m]\u001b[0m\u001b[39;49m A new release of pip is available: \u001b[0m\u001b[31;49m24.1\u001b[0m\u001b[39;49m -> \u001b[0m\u001b[32;49m24.2\u001b[0m\n",
      "\u001b[1m[\u001b[0m\u001b[34;49mnotice\u001b[0m\u001b[1;39;49m]\u001b[0m\u001b[39;49m To update, run: \u001b[0m\u001b[32;49mpip install --upgrade pip\u001b[0m\n"
     ]
    }
   ],
   "source": [
    "!pip install pandas"
   ]
  },
  {
   "cell_type": "markdown",
   "id": "90ef2b40",
   "metadata": {},
   "source": [
    "# 1. Load Dataset"
   ]
  },
  {
   "cell_type": "code",
   "execution_count": 51,
   "id": "48701d8b",
   "metadata": {},
   "outputs": [
    {
     "name": "stderr",
     "output_type": "stream",
     "text": [
      "/opt/anaconda3/lib/python3.8/site-packages/IPython/core/interactiveshell.py:3165: DtypeWarning: Columns (26) have mixed types.Specify dtype option on import or set low_memory=False.\n",
      "  has_raised = await self.run_ast_nodes(code_ast.body, cell_name,\n"
     ]
    }
   ],
   "source": [
    "df = pd.read_csv('train.csv')"
   ]
  },
  {
   "cell_type": "markdown",
   "id": "2970e77b",
   "metadata": {},
   "source": [
    "# 2. Explore Dataset"
   ]
  },
  {
   "cell_type": "code",
   "execution_count": 52,
   "id": "e5ac519c",
   "metadata": {},
   "outputs": [
    {
     "data": {
      "text/html": [
       "<div>\n",
       "<style scoped>\n",
       "    .dataframe tbody tr th:only-of-type {\n",
       "        vertical-align: middle;\n",
       "    }\n",
       "\n",
       "    .dataframe tbody tr th {\n",
       "        vertical-align: top;\n",
       "    }\n",
       "\n",
       "    .dataframe thead th {\n",
       "        text-align: right;\n",
       "    }\n",
       "</style>\n",
       "<table border=\"1\" class=\"dataframe\">\n",
       "  <thead>\n",
       "    <tr style=\"text-align: right;\">\n",
       "      <th></th>\n",
       "      <th>team</th>\n",
       "      <th>conf</th>\n",
       "      <th>GP</th>\n",
       "      <th>Min_per</th>\n",
       "      <th>Ortg</th>\n",
       "      <th>usg</th>\n",
       "      <th>eFG</th>\n",
       "      <th>TS_per</th>\n",
       "      <th>ORB_per</th>\n",
       "      <th>DRB_per</th>\n",
       "      <th>...</th>\n",
       "      <th>dgbpm</th>\n",
       "      <th>oreb</th>\n",
       "      <th>dreb</th>\n",
       "      <th>treb</th>\n",
       "      <th>ast</th>\n",
       "      <th>stl</th>\n",
       "      <th>blk</th>\n",
       "      <th>pts</th>\n",
       "      <th>player_id</th>\n",
       "      <th>drafted</th>\n",
       "    </tr>\n",
       "  </thead>\n",
       "  <tbody>\n",
       "    <tr>\n",
       "      <th>0</th>\n",
       "      <td>South Alabama</td>\n",
       "      <td>SB</td>\n",
       "      <td>26</td>\n",
       "      <td>29.5</td>\n",
       "      <td>97.3</td>\n",
       "      <td>16.6</td>\n",
       "      <td>42.5</td>\n",
       "      <td>44.43</td>\n",
       "      <td>1.6</td>\n",
       "      <td>4.6</td>\n",
       "      <td>...</td>\n",
       "      <td>-1.941150</td>\n",
       "      <td>0.1923</td>\n",
       "      <td>0.6154</td>\n",
       "      <td>0.8077</td>\n",
       "      <td>1.1923</td>\n",
       "      <td>0.3462</td>\n",
       "      <td>0.0385</td>\n",
       "      <td>3.8846</td>\n",
       "      <td>b2716b2d-3422-4959-9fe7-fe496414a4e8</td>\n",
       "      <td>0.0</td>\n",
       "    </tr>\n",
       "    <tr>\n",
       "      <th>1</th>\n",
       "      <td>Utah St.</td>\n",
       "      <td>WAC</td>\n",
       "      <td>34</td>\n",
       "      <td>60.9</td>\n",
       "      <td>108.3</td>\n",
       "      <td>14.9</td>\n",
       "      <td>52.4</td>\n",
       "      <td>54.48</td>\n",
       "      <td>3.8</td>\n",
       "      <td>6.3</td>\n",
       "      <td>...</td>\n",
       "      <td>-0.247934</td>\n",
       "      <td>0.6765</td>\n",
       "      <td>1.2647</td>\n",
       "      <td>1.9412</td>\n",
       "      <td>1.8235</td>\n",
       "      <td>0.4118</td>\n",
       "      <td>0.2353</td>\n",
       "      <td>5.9412</td>\n",
       "      <td>bb387960-e3a0-4ffd-96ae-184bad07cb8a</td>\n",
       "      <td>0.0</td>\n",
       "    </tr>\n",
       "    <tr>\n",
       "      <th>2</th>\n",
       "      <td>South Florida</td>\n",
       "      <td>BE</td>\n",
       "      <td>27</td>\n",
       "      <td>72.0</td>\n",
       "      <td>96.2</td>\n",
       "      <td>21.8</td>\n",
       "      <td>45.7</td>\n",
       "      <td>47.98</td>\n",
       "      <td>2.1</td>\n",
       "      <td>8.0</td>\n",
       "      <td>...</td>\n",
       "      <td>-0.883163</td>\n",
       "      <td>0.6296</td>\n",
       "      <td>2.3333</td>\n",
       "      <td>2.9630</td>\n",
       "      <td>1.9630</td>\n",
       "      <td>0.4815</td>\n",
       "      <td>0.0000</td>\n",
       "      <td>12.1852</td>\n",
       "      <td>89bbdf11-eadd-4de4-95e5-03f7e2874aa1</td>\n",
       "      <td>0.0</td>\n",
       "    </tr>\n",
       "    <tr>\n",
       "      <th>3</th>\n",
       "      <td>Pepperdine</td>\n",
       "      <td>WCC</td>\n",
       "      <td>30</td>\n",
       "      <td>44.5</td>\n",
       "      <td>97.7</td>\n",
       "      <td>16.0</td>\n",
       "      <td>53.6</td>\n",
       "      <td>53.69</td>\n",
       "      <td>4.1</td>\n",
       "      <td>9.4</td>\n",
       "      <td>...</td>\n",
       "      <td>-0.393459</td>\n",
       "      <td>0.7000</td>\n",
       "      <td>1.4333</td>\n",
       "      <td>2.1333</td>\n",
       "      <td>1.1000</td>\n",
       "      <td>0.5667</td>\n",
       "      <td>0.1333</td>\n",
       "      <td>4.9333</td>\n",
       "      <td>0c87ada8-8446-4ea2-a05b-bd07aed5f37a</td>\n",
       "      <td>0.0</td>\n",
       "    </tr>\n",
       "    <tr>\n",
       "      <th>4</th>\n",
       "      <td>Pacific</td>\n",
       "      <td>BW</td>\n",
       "      <td>33</td>\n",
       "      <td>56.2</td>\n",
       "      <td>96.5</td>\n",
       "      <td>22.0</td>\n",
       "      <td>52.8</td>\n",
       "      <td>54.31</td>\n",
       "      <td>8.3</td>\n",
       "      <td>18.6</td>\n",
       "      <td>...</td>\n",
       "      <td>-0.668318</td>\n",
       "      <td>1.4242</td>\n",
       "      <td>3.3030</td>\n",
       "      <td>4.7273</td>\n",
       "      <td>0.8485</td>\n",
       "      <td>0.4545</td>\n",
       "      <td>0.3333</td>\n",
       "      <td>7.5758</td>\n",
       "      <td>84661e00-ad20-4308-817e-efa8da52a86c</td>\n",
       "      <td>0.0</td>\n",
       "    </tr>\n",
       "  </tbody>\n",
       "</table>\n",
       "<p>5 rows × 64 columns</p>\n",
       "</div>"
      ],
      "text/plain": [
       "            team conf  GP  Min_per   Ortg   usg   eFG  TS_per  ORB_per  \\\n",
       "0  South Alabama   SB  26     29.5   97.3  16.6  42.5   44.43      1.6   \n",
       "1       Utah St.  WAC  34     60.9  108.3  14.9  52.4   54.48      3.8   \n",
       "2  South Florida   BE  27     72.0   96.2  21.8  45.7   47.98      2.1   \n",
       "3     Pepperdine  WCC  30     44.5   97.7  16.0  53.6   53.69      4.1   \n",
       "4        Pacific   BW  33     56.2   96.5  22.0  52.8   54.31      8.3   \n",
       "\n",
       "   DRB_per  ...     dgbpm    oreb    dreb    treb     ast     stl     blk  \\\n",
       "0      4.6  ... -1.941150  0.1923  0.6154  0.8077  1.1923  0.3462  0.0385   \n",
       "1      6.3  ... -0.247934  0.6765  1.2647  1.9412  1.8235  0.4118  0.2353   \n",
       "2      8.0  ... -0.883163  0.6296  2.3333  2.9630  1.9630  0.4815  0.0000   \n",
       "3      9.4  ... -0.393459  0.7000  1.4333  2.1333  1.1000  0.5667  0.1333   \n",
       "4     18.6  ... -0.668318  1.4242  3.3030  4.7273  0.8485  0.4545  0.3333   \n",
       "\n",
       "       pts                             player_id  drafted  \n",
       "0   3.8846  b2716b2d-3422-4959-9fe7-fe496414a4e8      0.0  \n",
       "1   5.9412  bb387960-e3a0-4ffd-96ae-184bad07cb8a      0.0  \n",
       "2  12.1852  89bbdf11-eadd-4de4-95e5-03f7e2874aa1      0.0  \n",
       "3   4.9333  0c87ada8-8446-4ea2-a05b-bd07aed5f37a      0.0  \n",
       "4   7.5758  84661e00-ad20-4308-817e-efa8da52a86c      0.0  \n",
       "\n",
       "[5 rows x 64 columns]"
      ]
     },
     "execution_count": 52,
     "metadata": {},
     "output_type": "execute_result"
    }
   ],
   "source": [
    "df.head()"
   ]
  },
  {
   "cell_type": "code",
   "execution_count": 53,
   "id": "000e32e5",
   "metadata": {},
   "outputs": [
    {
     "name": "stdout",
     "output_type": "stream",
     "text": [
      "<class 'pandas.core.frame.DataFrame'>\n",
      "RangeIndex: 46618 entries, 0 to 46617\n",
      "Data columns (total 64 columns):\n",
      " #   Column               Non-Null Count  Dtype  \n",
      "---  ------               --------------  -----  \n",
      " 0   team                 46618 non-null  object \n",
      " 1   conf                 46618 non-null  object \n",
      " 2   GP                   46618 non-null  int64  \n",
      " 3   Min_per              46618 non-null  float64\n",
      " 4   Ortg                 46618 non-null  float64\n",
      " 5   usg                  46618 non-null  float64\n",
      " 6   eFG                  46618 non-null  float64\n",
      " 7   TS_per               46618 non-null  float64\n",
      " 8   ORB_per              46618 non-null  float64\n",
      " 9   DRB_per              46618 non-null  float64\n",
      " 10  AST_per              46618 non-null  float64\n",
      " 11  TO_per               46618 non-null  float64\n",
      " 12  FTM                  46618 non-null  int64  \n",
      " 13  FTA                  46618 non-null  int64  \n",
      " 14  FT_per               46618 non-null  float64\n",
      " 15  twoPM                46618 non-null  int64  \n",
      " 16  twoPA                46618 non-null  int64  \n",
      " 17  twoP_per             46618 non-null  float64\n",
      " 18  TPM                  46618 non-null  int64  \n",
      " 19  TPA                  46618 non-null  int64  \n",
      " 20  TP_per               46618 non-null  float64\n",
      " 21  blk_per              46618 non-null  float64\n",
      " 22  stl_per              46618 non-null  float64\n",
      " 23  ftr                  46618 non-null  float64\n",
      " 24  yr                   46326 non-null  object \n",
      " 25  ht                   46554 non-null  object \n",
      " 26  num                  41939 non-null  object \n",
      " 27  porpag               46618 non-null  float64\n",
      " 28  adjoe                46618 non-null  float64\n",
      " 29  pfr                  46618 non-null  float64\n",
      " 30  year                 46618 non-null  int64  \n",
      " 31  type                 46618 non-null  object \n",
      " 32  Rec_Rank             14337 non-null  float64\n",
      " 33  ast_tov              43151 non-null  float64\n",
      " 34  rimmade              40860 non-null  float64\n",
      " 35  rimmade_rimmiss      40860 non-null  float64\n",
      " 36  midmade              40860 non-null  float64\n",
      " 37  midmade_midmiss      40860 non-null  float64\n",
      " 38  rim_ratio            38119 non-null  float64\n",
      " 39  mid_ratio            38050 non-null  float64\n",
      " 40  dunksmade            40860 non-null  float64\n",
      " 41  dunksmiss_dunksmade  40860 non-null  float64\n",
      " 42  dunks_ratio          20400 non-null  float64\n",
      " 43  pick                 1207 non-null   float64\n",
      " 44  drtg                 46576 non-null  float64\n",
      " 45  adrtg                46576 non-null  float64\n",
      " 46  dporpag              46576 non-null  float64\n",
      " 47  stops                46576 non-null  float64\n",
      " 48  bpm                  46576 non-null  float64\n",
      " 49  obpm                 46576 non-null  float64\n",
      " 50  dbpm                 46576 non-null  float64\n",
      " 51  gbpm                 46576 non-null  float64\n",
      " 52  mp                   46582 non-null  float64\n",
      " 53  ogbpm                46576 non-null  float64\n",
      " 54  dgbpm                46576 non-null  float64\n",
      " 55  oreb                 46582 non-null  float64\n",
      " 56  dreb                 46582 non-null  float64\n",
      " 57  treb                 46582 non-null  float64\n",
      " 58  ast                  46582 non-null  float64\n",
      " 59  stl                  46582 non-null  float64\n",
      " 60  blk                  46582 non-null  float64\n",
      " 61  pts                  46582 non-null  float64\n",
      " 62  player_id            46618 non-null  object \n",
      " 63  drafted              46618 non-null  float64\n",
      "dtypes: float64(49), int64(8), object(7)\n",
      "memory usage: 22.8+ MB\n"
     ]
    }
   ],
   "source": [
    "df.info()"
   ]
  },
  {
   "cell_type": "code",
   "execution_count": 54,
   "id": "00477c23",
   "metadata": {},
   "outputs": [
    {
     "data": {
      "text/html": [
       "<div>\n",
       "<style scoped>\n",
       "    .dataframe tbody tr th:only-of-type {\n",
       "        vertical-align: middle;\n",
       "    }\n",
       "\n",
       "    .dataframe tbody tr th {\n",
       "        vertical-align: top;\n",
       "    }\n",
       "\n",
       "    .dataframe thead th {\n",
       "        text-align: right;\n",
       "    }\n",
       "</style>\n",
       "<table border=\"1\" class=\"dataframe\">\n",
       "  <thead>\n",
       "    <tr style=\"text-align: right;\">\n",
       "      <th></th>\n",
       "      <th>GP</th>\n",
       "      <th>Min_per</th>\n",
       "      <th>Ortg</th>\n",
       "      <th>usg</th>\n",
       "      <th>eFG</th>\n",
       "      <th>TS_per</th>\n",
       "      <th>ORB_per</th>\n",
       "      <th>DRB_per</th>\n",
       "      <th>AST_per</th>\n",
       "      <th>TO_per</th>\n",
       "      <th>...</th>\n",
       "      <th>ogbpm</th>\n",
       "      <th>dgbpm</th>\n",
       "      <th>oreb</th>\n",
       "      <th>dreb</th>\n",
       "      <th>treb</th>\n",
       "      <th>ast</th>\n",
       "      <th>stl</th>\n",
       "      <th>blk</th>\n",
       "      <th>pts</th>\n",
       "      <th>drafted</th>\n",
       "    </tr>\n",
       "  </thead>\n",
       "  <tbody>\n",
       "    <tr>\n",
       "      <th>count</th>\n",
       "      <td>46618.000000</td>\n",
       "      <td>46618.000000</td>\n",
       "      <td>46618.000000</td>\n",
       "      <td>46618.000000</td>\n",
       "      <td>46618.000000</td>\n",
       "      <td>46618.000000</td>\n",
       "      <td>46618.000000</td>\n",
       "      <td>46618.000000</td>\n",
       "      <td>46618.000000</td>\n",
       "      <td>46618.000000</td>\n",
       "      <td>...</td>\n",
       "      <td>46576.000000</td>\n",
       "      <td>46576.000000</td>\n",
       "      <td>46582.000000</td>\n",
       "      <td>46582.000000</td>\n",
       "      <td>46582.000000</td>\n",
       "      <td>46582.000000</td>\n",
       "      <td>46582.000000</td>\n",
       "      <td>46582.000000</td>\n",
       "      <td>46582.000000</td>\n",
       "      <td>46618.000000</td>\n",
       "    </tr>\n",
       "    <tr>\n",
       "      <th>mean</th>\n",
       "      <td>23.542988</td>\n",
       "      <td>37.339013</td>\n",
       "      <td>91.784360</td>\n",
       "      <td>18.164578</td>\n",
       "      <td>44.424392</td>\n",
       "      <td>47.571397</td>\n",
       "      <td>5.654071</td>\n",
       "      <td>12.575102</td>\n",
       "      <td>10.923008</td>\n",
       "      <td>20.535915</td>\n",
       "      <td>...</td>\n",
       "      <td>-2.088273</td>\n",
       "      <td>-0.463778</td>\n",
       "      <td>0.778630</td>\n",
       "      <td>1.867124</td>\n",
       "      <td>2.645755</td>\n",
       "      <td>1.066943</td>\n",
       "      <td>0.527743</td>\n",
       "      <td>0.283606</td>\n",
       "      <td>5.732429</td>\n",
       "      <td>0.009524</td>\n",
       "    </tr>\n",
       "    <tr>\n",
       "      <th>std</th>\n",
       "      <td>10.076829</td>\n",
       "      <td>28.019801</td>\n",
       "      <td>30.235568</td>\n",
       "      <td>6.181982</td>\n",
       "      <td>18.026404</td>\n",
       "      <td>17.217909</td>\n",
       "      <td>9.985025</td>\n",
       "      <td>11.041089</td>\n",
       "      <td>9.430012</td>\n",
       "      <td>12.210669</td>\n",
       "      <td>...</td>\n",
       "      <td>6.160620</td>\n",
       "      <td>3.303826</td>\n",
       "      <td>0.745045</td>\n",
       "      <td>1.464894</td>\n",
       "      <td>2.096319</td>\n",
       "      <td>1.170469</td>\n",
       "      <td>0.469654</td>\n",
       "      <td>0.422755</td>\n",
       "      <td>4.942544</td>\n",
       "      <td>0.097127</td>\n",
       "    </tr>\n",
       "    <tr>\n",
       "      <th>min</th>\n",
       "      <td>1.000000</td>\n",
       "      <td>0.000000</td>\n",
       "      <td>0.000000</td>\n",
       "      <td>0.000000</td>\n",
       "      <td>0.000000</td>\n",
       "      <td>0.000000</td>\n",
       "      <td>0.000000</td>\n",
       "      <td>0.000000</td>\n",
       "      <td>0.000000</td>\n",
       "      <td>0.000000</td>\n",
       "      <td>...</td>\n",
       "      <td>-141.539000</td>\n",
       "      <td>-100.984000</td>\n",
       "      <td>0.000000</td>\n",
       "      <td>0.000000</td>\n",
       "      <td>0.000000</td>\n",
       "      <td>0.000000</td>\n",
       "      <td>0.000000</td>\n",
       "      <td>0.000000</td>\n",
       "      <td>0.000000</td>\n",
       "      <td>0.000000</td>\n",
       "    </tr>\n",
       "    <tr>\n",
       "      <th>25%</th>\n",
       "      <td>17.000000</td>\n",
       "      <td>9.600000</td>\n",
       "      <td>83.900000</td>\n",
       "      <td>14.600000</td>\n",
       "      <td>40.000000</td>\n",
       "      <td>43.770000</td>\n",
       "      <td>1.900000</td>\n",
       "      <td>8.400000</td>\n",
       "      <td>4.600000</td>\n",
       "      <td>14.900000</td>\n",
       "      <td>...</td>\n",
       "      <td>-4.463895</td>\n",
       "      <td>-1.747553</td>\n",
       "      <td>0.228600</td>\n",
       "      <td>0.681800</td>\n",
       "      <td>1.000000</td>\n",
       "      <td>0.217400</td>\n",
       "      <td>0.157900</td>\n",
       "      <td>0.000000</td>\n",
       "      <td>1.538500</td>\n",
       "      <td>0.000000</td>\n",
       "    </tr>\n",
       "    <tr>\n",
       "      <th>50%</th>\n",
       "      <td>28.000000</td>\n",
       "      <td>35.900000</td>\n",
       "      <td>97.000000</td>\n",
       "      <td>18.100000</td>\n",
       "      <td>47.500000</td>\n",
       "      <td>50.720000</td>\n",
       "      <td>4.500000</td>\n",
       "      <td>11.800000</td>\n",
       "      <td>9.100000</td>\n",
       "      <td>19.300000</td>\n",
       "      <td>...</td>\n",
       "      <td>-1.581525</td>\n",
       "      <td>-0.335180</td>\n",
       "      <td>0.550000</td>\n",
       "      <td>1.600000</td>\n",
       "      <td>2.235300</td>\n",
       "      <td>0.666700</td>\n",
       "      <td>0.419400</td>\n",
       "      <td>0.131600</td>\n",
       "      <td>4.428600</td>\n",
       "      <td>0.000000</td>\n",
       "    </tr>\n",
       "    <tr>\n",
       "      <th>75%</th>\n",
       "      <td>31.000000</td>\n",
       "      <td>62.200000</td>\n",
       "      <td>106.800000</td>\n",
       "      <td>21.800000</td>\n",
       "      <td>53.000000</td>\n",
       "      <td>55.947500</td>\n",
       "      <td>8.200000</td>\n",
       "      <td>15.900000</td>\n",
       "      <td>15.200000</td>\n",
       "      <td>24.700000</td>\n",
       "      <td>...</td>\n",
       "      <td>1.018088</td>\n",
       "      <td>1.048375</td>\n",
       "      <td>1.129000</td>\n",
       "      <td>2.724100</td>\n",
       "      <td>3.806500</td>\n",
       "      <td>1.529000</td>\n",
       "      <td>0.793100</td>\n",
       "      <td>0.366700</td>\n",
       "      <td>9.033050</td>\n",
       "      <td>0.000000</td>\n",
       "    </tr>\n",
       "    <tr>\n",
       "      <th>max</th>\n",
       "      <td>41.000000</td>\n",
       "      <td>98.000000</td>\n",
       "      <td>834.000000</td>\n",
       "      <td>50.000000</td>\n",
       "      <td>150.000000</td>\n",
       "      <td>150.000000</td>\n",
       "      <td>1576.600000</td>\n",
       "      <td>1385.000000</td>\n",
       "      <td>100.000000</td>\n",
       "      <td>100.000000</td>\n",
       "      <td>...</td>\n",
       "      <td>225.485000</td>\n",
       "      <td>78.985500</td>\n",
       "      <td>5.933300</td>\n",
       "      <td>11.545500</td>\n",
       "      <td>14.533300</td>\n",
       "      <td>10.000000</td>\n",
       "      <td>4.000000</td>\n",
       "      <td>5.258100</td>\n",
       "      <td>29.968800</td>\n",
       "      <td>1.000000</td>\n",
       "    </tr>\n",
       "  </tbody>\n",
       "</table>\n",
       "<p>8 rows × 57 columns</p>\n",
       "</div>"
      ],
      "text/plain": [
       "                 GP       Min_per          Ortg           usg           eFG  \\\n",
       "count  46618.000000  46618.000000  46618.000000  46618.000000  46618.000000   \n",
       "mean      23.542988     37.339013     91.784360     18.164578     44.424392   \n",
       "std       10.076829     28.019801     30.235568      6.181982     18.026404   \n",
       "min        1.000000      0.000000      0.000000      0.000000      0.000000   \n",
       "25%       17.000000      9.600000     83.900000     14.600000     40.000000   \n",
       "50%       28.000000     35.900000     97.000000     18.100000     47.500000   \n",
       "75%       31.000000     62.200000    106.800000     21.800000     53.000000   \n",
       "max       41.000000     98.000000    834.000000     50.000000    150.000000   \n",
       "\n",
       "             TS_per       ORB_per       DRB_per       AST_per        TO_per  \\\n",
       "count  46618.000000  46618.000000  46618.000000  46618.000000  46618.000000   \n",
       "mean      47.571397      5.654071     12.575102     10.923008     20.535915   \n",
       "std       17.217909      9.985025     11.041089      9.430012     12.210669   \n",
       "min        0.000000      0.000000      0.000000      0.000000      0.000000   \n",
       "25%       43.770000      1.900000      8.400000      4.600000     14.900000   \n",
       "50%       50.720000      4.500000     11.800000      9.100000     19.300000   \n",
       "75%       55.947500      8.200000     15.900000     15.200000     24.700000   \n",
       "max      150.000000   1576.600000   1385.000000    100.000000    100.000000   \n",
       "\n",
       "       ...         ogbpm         dgbpm          oreb          dreb  \\\n",
       "count  ...  46576.000000  46576.000000  46582.000000  46582.000000   \n",
       "mean   ...     -2.088273     -0.463778      0.778630      1.867124   \n",
       "std    ...      6.160620      3.303826      0.745045      1.464894   \n",
       "min    ...   -141.539000   -100.984000      0.000000      0.000000   \n",
       "25%    ...     -4.463895     -1.747553      0.228600      0.681800   \n",
       "50%    ...     -1.581525     -0.335180      0.550000      1.600000   \n",
       "75%    ...      1.018088      1.048375      1.129000      2.724100   \n",
       "max    ...    225.485000     78.985500      5.933300     11.545500   \n",
       "\n",
       "               treb           ast           stl           blk           pts  \\\n",
       "count  46582.000000  46582.000000  46582.000000  46582.000000  46582.000000   \n",
       "mean       2.645755      1.066943      0.527743      0.283606      5.732429   \n",
       "std        2.096319      1.170469      0.469654      0.422755      4.942544   \n",
       "min        0.000000      0.000000      0.000000      0.000000      0.000000   \n",
       "25%        1.000000      0.217400      0.157900      0.000000      1.538500   \n",
       "50%        2.235300      0.666700      0.419400      0.131600      4.428600   \n",
       "75%        3.806500      1.529000      0.793100      0.366700      9.033050   \n",
       "max       14.533300     10.000000      4.000000      5.258100     29.968800   \n",
       "\n",
       "            drafted  \n",
       "count  46618.000000  \n",
       "mean       0.009524  \n",
       "std        0.097127  \n",
       "min        0.000000  \n",
       "25%        0.000000  \n",
       "50%        0.000000  \n",
       "75%        0.000000  \n",
       "max        1.000000  \n",
       "\n",
       "[8 rows x 57 columns]"
      ]
     },
     "execution_count": 54,
     "metadata": {},
     "output_type": "execute_result"
    }
   ],
   "source": [
    "df.describe()"
   ]
  },
  {
   "cell_type": "code",
   "execution_count": 55,
   "id": "53a49eaa",
   "metadata": {},
   "outputs": [
    {
     "data": {
      "text/plain": [
       "pick                   97.410871\n",
       "Rec_Rank               69.245785\n",
       "dunks_ratio            56.240079\n",
       "mid_ratio              18.379167\n",
       "rim_ratio              18.231155\n",
       "rimmade                12.351452\n",
       "rimmade_rimmiss        12.351452\n",
       "midmade                12.351452\n",
       "midmade_midmiss        12.351452\n",
       "dunksmade              12.351452\n",
       "dunksmiss_dunksmade    12.351452\n",
       "num                    10.036896\n",
       "ast_tov                 7.437041\n",
       "yr                      0.626367\n",
       "ht                      0.137286\n",
       "gbpm                    0.090094\n",
       "drtg                    0.090094\n",
       "dbpm                    0.090094\n",
       "dgbpm                   0.090094\n",
       "ogbpm                   0.090094\n",
       "stops                   0.090094\n",
       "adrtg                   0.090094\n",
       "dporpag                 0.090094\n",
       "bpm                     0.090094\n",
       "obpm                    0.090094\n",
       "mp                      0.077223\n",
       "dreb                    0.077223\n",
       "treb                    0.077223\n",
       "ast                     0.077223\n",
       "stl                     0.077223\n",
       "blk                     0.077223\n",
       "pts                     0.077223\n",
       "oreb                    0.077223\n",
       "dtype: float64"
      ]
     },
     "execution_count": 55,
     "metadata": {},
     "output_type": "execute_result"
    }
   ],
   "source": [
    "# Checking the percentage of missing values in each column\n",
    "missing_values = df.isnull().mean().sort_values(ascending=False) * 100\n",
    "\n",
    "# Displaying columns with missing values\n",
    "missing_values[missing_values > 0]"
   ]
  },
  {
   "cell_type": "code",
   "execution_count": 56,
   "id": "044a442a",
   "metadata": {},
   "outputs": [
    {
     "data": {
      "image/png": "[encoded data removed]",
      "text/plain": [
       "<Figure size 576x432 with 1 Axes>"
      ]
     },
     "metadata": {
      "needs_background": "light"
     },
     "output_type": "display_data"
    },
    {
     "data": {
      "text/plain": [
       "count    46618.000000\n",
       "mean         0.009524\n",
       "std          0.097127\n",
       "min          0.000000\n",
       "25%          0.000000\n",
       "50%          0.000000\n",
       "75%          0.000000\n",
       "max          1.000000\n",
       "Name: drafted, dtype: float64"
      ]
     },
     "execution_count": 56,
     "metadata": {},
     "output_type": "execute_result"
    }
   ],
   "source": [
    "# Plotting the target variable 'drafted' distribution\n",
    "plt.figure(figsize=(8, 6))\n",
    "df['drafted'].value_counts().plot(kind='bar', color=['skyblue', 'orange'])\n",
    "plt.title('Distribution of Drafted vs. Non-Drafted Players')\n",
    "plt.xlabel('Drafted (1 = Yes, 0 = No)')\n",
    "plt.ylabel('Count')\n",
    "plt.xticks(rotation=0)\n",
    "plt.show()\n",
    "\n",
    "# Checking basic statistics of the 'drafted' column\n",
    "df['drafted'].describe()"
   ]
  },
  {
   "cell_type": "code",
   "execution_count": 57,
   "id": "86d988b0",
   "metadata": {},
   "outputs": [
    {
     "data": {
      "image/png": "[encoded data removed]",
      "text/plain": [
       "<Figure size 1080x720 with 4 Axes>"
      ]
     },
     "metadata": {
      "needs_background": "light"
     },
     "output_type": "display_data"
    }
   ],
   "source": [
    "# Plotting a few key features against the 'drafted' column to understand their relationship\n",
    "fig, axes = plt.subplots(2, 2, figsize=(15, 10))\n",
    "\n",
    "# Offensive Rating (Ortg) vs Drafted\n",
    "df.groupby('drafted')['Ortg'].mean().plot(kind='bar', ax=axes[0, 0], color=['skyblue', 'orange'])\n",
    "axes[0, 0].set_title('Offensive Rating (Ortg) vs Drafted')\n",
    "axes[0, 0].set_xlabel('Drafted (1 = Yes, 0 = No)')\n",
    "axes[0, 0].set_ylabel('Average Offensive Rating')\n",
    "\n",
    "# Assist Percentage (AST_per) vs Drafted\n",
    "df.groupby('drafted')['AST_per'].mean().plot(kind='bar', ax=axes[0, 1], color=['skyblue', 'orange'])\n",
    "axes[0, 1].set_title('Assist Percentage (AST_per) vs Drafted')\n",
    "axes[0, 1].set_xlabel('Drafted (1 = Yes, 0 = No)')\n",
    "axes[0, 1].set_ylabel('Average Assist Percentage')\n",
    "\n",
    "# True Shooting Percentage (TS_per) vs Drafted\n",
    "df.groupby('drafted')['TS_per'].mean().plot(kind='bar', ax=axes[1, 0], color=['skyblue', 'orange'])\n",
    "axes[1, 0].set_title('True Shooting Percentage (TS_per) vs Drafted')\n",
    "axes[1, 0].set_xlabel('Drafted (1 = Yes, 0 = No)')\n",
    "axes[1, 0].set_ylabel('Average True Shooting Percentage')\n",
    "\n",
    "# Minutes per Game (Min_per) vs Drafted\n",
    "df.groupby('drafted')['Min_per'].mean().plot(kind='bar', ax=axes[1, 1], color=['skyblue', 'orange'])\n",
    "axes[1, 1].set_title('Minutes per Game (Min_per) vs Drafted')\n",
    "axes[1, 1].set_xlabel('Drafted (1 = Yes, 0 = No)')\n",
    "axes[1, 1].set_ylabel('Average Minutes per Game')\n",
    "\n",
    "plt.tight_layout()\n",
    "plt.show()"
   ]
  },
  {
   "cell_type": "code",
   "execution_count": 58,
   "id": "baad7aee",
   "metadata": {},
   "outputs": [
    {
     "data": {
      "image/png": "[encoded data removed]",
      "text/plain": [
       "<Figure size 1080x720 with 2 Axes>"
      ]
     },
     "metadata": {
      "needs_background": "light"
     },
     "output_type": "display_data"
    }
   ],
   "source": [
    "import seaborn as sns\n",
    "\n",
    "# Filtering out non-numeric columns for correlation analysis\n",
    "numeric_columns = df.select_dtypes(include=['float64', 'int64']).columns\n",
    "\n",
    "# Plotting a correlation heatmap\n",
    "plt.figure(figsize=(15, 10))\n",
    "correlation_matrix = df[numeric_columns].corr()\n",
    "sns.heatmap(correlation_matrix, annot=False, cmap=\"coolwarm\", center=0)\n",
    "plt.title('Correlation Heatmap of Features')\n",
    "plt.show()"
   ]
  },
  {
   "cell_type": "markdown",
   "id": "4d97615c",
   "metadata": {},
   "source": [
    "# 3. Prepare Data"
   ]
  },
  {
   "cell_type": "markdown",
   "id": "53be0e68",
   "metadata": {},
   "source": [
    "## 3.1. Handling Missing Values"
   ]
  },
  {
   "cell_type": "code",
   "execution_count": 59,
   "id": "7730e54a",
   "metadata": {},
   "outputs": [
    {
     "name": "stdout",
     "output_type": "stream",
     "text": [
      "<class 'pandas.core.frame.DataFrame'>\n",
      "RangeIndex: 46618 entries, 0 to 46617\n",
      "Data columns (total 61 columns):\n",
      " #   Column               Non-Null Count  Dtype  \n",
      "---  ------               --------------  -----  \n",
      " 0   team                 46618 non-null  object \n",
      " 1   conf                 46618 non-null  object \n",
      " 2   GP                   46618 non-null  int64  \n",
      " 3   Min_per              46618 non-null  float64\n",
      " 4   Ortg                 46618 non-null  float64\n",
      " 5   usg                  46618 non-null  float64\n",
      " 6   eFG                  46618 non-null  float64\n",
      " 7   TS_per               46618 non-null  float64\n",
      " 8   ORB_per              46618 non-null  float64\n",
      " 9   DRB_per              46618 non-null  float64\n",
      " 10  AST_per              46618 non-null  float64\n",
      " 11  TO_per               46618 non-null  float64\n",
      " 12  FTM                  46618 non-null  int64  \n",
      " 13  FTA                  46618 non-null  int64  \n",
      " 14  FT_per               46618 non-null  float64\n",
      " 15  twoPM                46618 non-null  int64  \n",
      " 16  twoPA                46618 non-null  int64  \n",
      " 17  twoP_per             46618 non-null  float64\n",
      " 18  TPM                  46618 non-null  int64  \n",
      " 19  TPA                  46618 non-null  int64  \n",
      " 20  TP_per               46618 non-null  float64\n",
      " 21  blk_per              46618 non-null  float64\n",
      " 22  stl_per              46618 non-null  float64\n",
      " 23  ftr                  46618 non-null  float64\n",
      " 24  yr                   46326 non-null  object \n",
      " 25  ht                   46554 non-null  object \n",
      " 26  num                  41939 non-null  object \n",
      " 27  porpag               46618 non-null  float64\n",
      " 28  adjoe                46618 non-null  float64\n",
      " 29  pfr                  46618 non-null  float64\n",
      " 30  year                 46618 non-null  int64  \n",
      " 31  type                 46618 non-null  object \n",
      " 32  ast_tov              43151 non-null  float64\n",
      " 33  rimmade              40860 non-null  float64\n",
      " 34  rimmade_rimmiss      40860 non-null  float64\n",
      " 35  midmade              40860 non-null  float64\n",
      " 36  midmade_midmiss      40860 non-null  float64\n",
      " 37  rim_ratio            38119 non-null  float64\n",
      " 38  mid_ratio            38050 non-null  float64\n",
      " 39  dunksmade            40860 non-null  float64\n",
      " 40  dunksmiss_dunksmade  40860 non-null  float64\n",
      " 41  drtg                 46576 non-null  float64\n",
      " 42  adrtg                46576 non-null  float64\n",
      " 43  dporpag              46576 non-null  float64\n",
      " 44  stops                46576 non-null  float64\n",
      " 45  bpm                  46576 non-null  float64\n",
      " 46  obpm                 46576 non-null  float64\n",
      " 47  dbpm                 46576 non-null  float64\n",
      " 48  gbpm                 46576 non-null  float64\n",
      " 49  mp                   46582 non-null  float64\n",
      " 50  ogbpm                46576 non-null  float64\n",
      " 51  dgbpm                46576 non-null  float64\n",
      " 52  oreb                 46582 non-null  float64\n",
      " 53  dreb                 46582 non-null  float64\n",
      " 54  treb                 46582 non-null  float64\n",
      " 55  ast                  46582 non-null  float64\n",
      " 56  stl                  46582 non-null  float64\n",
      " 57  blk                  46582 non-null  float64\n",
      " 58  pts                  46582 non-null  float64\n",
      " 59  player_id            46618 non-null  object \n",
      " 60  drafted              46618 non-null  float64\n",
      "dtypes: float64(46), int64(8), object(7)\n",
      "memory usage: 21.7+ MB\n"
     ]
    },
    {
     "data": {
      "text/plain": [
       "(None, 60825)"
      ]
     },
     "execution_count": 59,
     "metadata": {},
     "output_type": "execute_result"
    }
   ],
   "source": [
    "# Dropping the columns with more than 50% missing values\n",
    "columns_to_drop = ['pick', 'Rec_Rank', 'dunks_ratio']\n",
    "df_cleaned = df.drop(columns=columns_to_drop)\n",
    "\n",
    "# Verifying that the columns have been dropped\n",
    "df_cleaned.info(), df_cleaned.isnull().sum().sum()"
   ]
  },
  {
   "cell_type": "code",
   "execution_count": 60,
   "id": "41ce544a",
   "metadata": {},
   "outputs": [],
   "source": [
    "# Identifying numerical and categorical columns with missing values\n",
    "numerical_columns = df_cleaned.select_dtypes(include=['float64', 'int64']).columns\n",
    "categorical_columns = df_cleaned.select_dtypes(include=['object']).columns"
   ]
  },
  {
   "cell_type": "code",
   "execution_count": 61,
   "id": "f5452112",
   "metadata": {},
   "outputs": [],
   "source": [
    "# Imputing missing values for numerical columns with the median\n",
    "df_cleaned[numerical_columns] = df_cleaned[numerical_columns].fillna(df_cleaned[numerical_columns].median())"
   ]
  },
  {
   "cell_type": "code",
   "execution_count": 62,
   "id": "1d0e3688",
   "metadata": {},
   "outputs": [],
   "source": [
    "# Imputing missing values for categorical columns with the mode\n",
    "df_cleaned[categorical_columns] = df_cleaned[categorical_columns].fillna(df_cleaned[categorical_columns].mode().iloc[0])"
   ]
  },
  {
   "cell_type": "code",
   "execution_count": 63,
   "id": "c1da4bc3",
   "metadata": {},
   "outputs": [
    {
     "data": {
      "text/plain": [
       "0"
      ]
     },
     "execution_count": 63,
     "metadata": {},
     "output_type": "execute_result"
    }
   ],
   "source": [
    "# Verifying if there are any remaining missing values\n",
    "missing_values_after_imputation = df_cleaned.isnull().sum().sum()\n",
    "missing_values_after_imputation"
   ]
  },
  {
   "cell_type": "markdown",
   "id": "57c92e9c",
   "metadata": {},
   "source": [
    "## 3.2. Data Splitting"
   ]
  },
  {
   "cell_type": "code",
   "execution_count": 64,
   "id": "ca19caa4",
   "metadata": {},
   "outputs": [],
   "source": [
    "# Separate features and target variable\n",
    "X = df_cleaned.drop(columns=['drafted', 'player_id'])\n",
    "y = df_cleaned['drafted']"
   ]
  },
  {
   "cell_type": "markdown",
   "id": "c840477a",
   "metadata": {},
   "source": [
    "## 3.3. Feature Engineering/Transformation"
   ]
  },
  {
   "cell_type": "code",
   "execution_count": 65,
   "id": "434e3a7b",
   "metadata": {},
   "outputs": [],
   "source": [
    "from sklearn.preprocessing import StandardScaler, OneHotEncoder\n",
    "from sklearn.compose import ColumnTransformer\n",
    "from sklearn.pipeline import Pipeline"
   ]
  },
  {
   "cell_type": "code",
   "execution_count": 66,
   "id": "f7281f2a",
   "metadata": {},
   "outputs": [],
   "source": [
    "# Identify numerical and categorical columns\n",
    "numerical_features = X.select_dtypes(include=['float64', 'int64']).columns.tolist()\n",
    "categorical_features = X.select_dtypes(include=['object']).columns.tolist()"
   ]
  },
  {
   "cell_type": "code",
   "execution_count": 67,
   "id": "42806b01",
   "metadata": {},
   "outputs": [],
   "source": [
    "# Checking each categorical column for mixed data types\n",
    "mixed_type_columns = {}\n",
    "\n",
    "for col in categorical_features:\n",
    "    types = df_cleaned[col].apply(lambda x: type(x)).value_counts()\n",
    "    if len(types) > 1:\n",
    "        mixed_type_columns[col] = types"
   ]
  },
  {
   "cell_type": "code",
   "execution_count": 68,
   "id": "c56939c0",
   "metadata": {},
   "outputs": [
    {
     "data": {
      "text/plain": [
       "{'num': <class 'float'>    34847\n",
       " <class 'str'>      11771\n",
       " Name: num, dtype: int64}"
      ]
     },
     "execution_count": 68,
     "metadata": {},
     "output_type": "execute_result"
    }
   ],
   "source": [
    "mixed_type_columns"
   ]
  },
  {
   "cell_type": "code",
   "execution_count": 69,
   "id": "dc3b60b6",
   "metadata": {},
   "outputs": [
    {
     "data": {
      "text/plain": [
       "{'num': <class 'float'>    34847\n",
       " <class 'str'>      11771\n",
       " Name: num, dtype: int64}"
      ]
     },
     "execution_count": 69,
     "metadata": {},
     "output_type": "execute_result"
    }
   ],
   "source": [
    "# Recheck all categorical columns for mixed types after conversion\n",
    "mixed_type_columns_after_conversion = {}\n",
    "\n",
    "\n",
    "for col in categorical_features:\n",
    "    types = df_cleaned[col].apply(lambda x: type(x)).value_counts()\n",
    "    if len(types) > 1:\n",
    "        mixed_type_columns_after_conversion[col] = types\n",
    "\n",
    "\n",
    "mixed_type_columns_after_conversion"
   ]
  },
  {
   "cell_type": "code",
   "execution_count": 70,
   "id": "107cfc44",
   "metadata": {},
   "outputs": [
    {
     "data": {
      "text/html": [
       "<div>\n",
       "<style scoped>\n",
       "    .dataframe tbody tr th:only-of-type {\n",
       "        vertical-align: middle;\n",
       "    }\n",
       "\n",
       "    .dataframe tbody tr th {\n",
       "        vertical-align: top;\n",
       "    }\n",
       "\n",
       "    .dataframe thead th {\n",
       "        text-align: right;\n",
       "    }\n",
       "</style>\n",
       "<table border=\"1\" class=\"dataframe\">\n",
       "  <thead>\n",
       "    <tr style=\"text-align: right;\">\n",
       "      <th></th>\n",
       "      <th>null_count</th>\n",
       "      <th>nan_count</th>\n",
       "      <th>inf_count</th>\n",
       "    </tr>\n",
       "  </thead>\n",
       "  <tbody>\n",
       "  </tbody>\n",
       "</table>\n",
       "</div>"
      ],
      "text/plain": [
       "Empty DataFrame\n",
       "Columns: [null_count, nan_count, inf_count]\n",
       "Index: []"
      ]
     },
     "execution_count": 70,
     "metadata": {},
     "output_type": "execute_result"
    }
   ],
   "source": [
    "# Checking for any null, NaN, or inf values that might cause issues in the data\n",
    "special_cases = {}\n",
    "\n",
    "for col in df_cleaned.columns:\n",
    "    special_cases[col] = {\n",
    "        'null_count': df_cleaned[col].isnull().sum(),\n",
    "        'nan_count': np.isnan(df_cleaned[col]).sum() if df_cleaned[col].dtype != 'O' else 0,\n",
    "        'inf_count': np.isinf(df_cleaned[col]).sum() if df_cleaned[col].dtype != 'O' else 0\n",
    "    }\n",
    "\n",
    "special_cases_df = pd.DataFrame(special_cases).T\n",
    "special_cases_df[special_cases_df.sum(axis=1) > 0]  # Displaying only columns with issues"
   ]
  },
  {
   "cell_type": "code",
   "execution_count": 71,
   "id": "51cb7bd1",
   "metadata": {},
   "outputs": [],
   "source": [
    "# Forcefully converting all categorical columns to strings to ensure consistency\n",
    "for col in categorical_features:\n",
    "    df_cleaned[col] = df_cleaned[col].astype(str)\n",
    "\n",
    "# Re-attempt the encoding process\n",
    "try:\n",
    "    X_categorical_encoded = encoder.fit_transform(X[categorical_features])\n",
    "    X_categorical_encoded.shape\n",
    "except Exception as e:\n",
    "    e"
   ]
  },
  {
   "cell_type": "code",
   "execution_count": 72,
   "id": "c241e10c",
   "metadata": {},
   "outputs": [
    {
     "data": {
      "text/plain": [
       "(46618, 570)"
      ]
     },
     "execution_count": 72,
     "metadata": {},
     "output_type": "execute_result"
    }
   ],
   "source": [
    "# Re-run the encoding and scaling steps to ensure all variables are in scope\n",
    "# Encoding categorical features\n",
    "encoder = OneHotEncoder(handle_unknown='ignore', sparse=False)\n",
    "X_categorical_encoded = encoder.fit_transform(df_cleaned[categorical_features])\n",
    "\n",
    "# Scaling numerical features\n",
    "scaler = StandardScaler()\n",
    "X_numerical_scaled = scaler.fit_transform(df_cleaned[numerical_features])\n",
    "\n",
    "# Combining scaled numerical features and encoded categorical features\n",
    "X_final = np.hstack([X_numerical_scaled, X_categorical_encoded])\n",
    "\n",
    "# Verifying the shape of the combined dataset\n",
    "X_final.shape"
   ]
  },
  {
   "cell_type": "markdown",
   "id": "db300ea7",
   "metadata": {},
   "source": [
    "## 4. Modelling"
   ]
  },
  {
   "cell_type": "markdown",
   "id": "23fc356f",
   "metadata": {},
   "source": [
    "### 4.1. Random Forest with Hyperparameter Tuning"
   ]
  },
  {
   "cell_type": "code",
   "execution_count": 73,
   "id": "a82ade8c",
   "metadata": {},
   "outputs": [],
   "source": [
    "from sklearn.ensemble import RandomForestClassifier\n",
    "from sklearn.model_selection import cross_val_score\n",
    "\n",
    "# Initialize the Random Forest Classifier\n",
    "rf = RandomForestClassifier(random_state=42, n_estimators=100)\n",
    "\n",
    "# Perform cross-validation to evaluate the model's AUROC score\n",
    "auroc_scores_rf = cross_val_score(rf, X_final, y, cv=5, scoring='roc_auc')"
   ]
  },
  {
   "cell_type": "code",
   "execution_count": 74,
   "id": "4de663cf",
   "metadata": {},
   "outputs": [
    {
     "name": "stdout",
     "output_type": "stream",
     "text": [
      "AUROC Scores for Random Forest: [0.90713395 0.97401009 0.97769842 0.97948085 0.95755063]\n",
      "Mean AUROC Score for Random Forest: 0.9591747875844703\n"
     ]
    }
   ],
   "source": [
    "# Display the AUROC scores from cross-validation\n",
    "print(\"AUROC Scores for Random Forest:\", auroc_scores_rf)\n",
    "print(\"Mean AUROC Score for Random Forest:\", auroc_scores_rf.mean())"
   ]
  }
 ],
 "metadata": {
  "kernelspec": {
   "display_name": "Python 3",
   "language": "python",
   "name": "python3"
  },
  "language_info": {
   "codemirror_mode": {
    "name": "ipython",
    "version": 3
   },
   "file_extension": ".py",
   "mimetype": "text/x-python",
   "name": "python",
   "nbconvert_exporter": "python",
   "pygments_lexer": "ipython3",
   "version": "3.8.8"
  }
 },
 "nbformat": 4,
 "nbformat_minor": 5
}
